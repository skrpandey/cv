{
 "cells": [
  {
   "cell_type": "markdown",
   "metadata": {
    "id": "vpX0HBrj6nae"
   },
   "source": [
    "\n",
    "\n",
    "# Regularisation in PyTorch\n",
    "### **First we train a CNN on the Fashion-MNIST Dataset usng NO Regularisation Methods**\n",
    "\n",
    "\n",
    "\n",
    "---\n",
    "\n",
    "\n",
    "In this lesson, we first learn to create a **simple Convolutional Neural Network model** in PyTorch and train it to **classify images in the Fashion-MNIST Dataset**, without the use of any regularisation methods. \n",
    "1. Import PyTorch libraries, define our Transformers, Load our dataset and Visualize our images.\n",
    "2. Build a Simple CNN without Regularisation\n",
    "3. Train Our CNN\n",
    "3. Take a look at Data Augmentation \n",
    "\n"
   ]
  },
  {
   "cell_type": "markdown",
   "metadata": {
    "id": "r8RE8IJOcG-v"
   },
   "source": [
    "# **Import PyTorch libraries, Define Transfomers and Load & Visualise Dataset**"
   ]
  },
  {
   "cell_type": "code",
   "execution_count": 1,
   "metadata": {
    "colab": {
     "base_uri": "https://localhost:8080/"
    },
    "executionInfo": {
     "elapsed": 307,
     "status": "ok",
     "timestamp": 1638212829695,
     "user": {
      "displayName": "Rajeev Ratan",
      "photoUrl": "https://lh3.googleusercontent.com/a-/AOh14GgtO-hUyDqrPmYR3HGcaXMtwRIq1ObsdPjhiGDSWSw=s64",
      "userId": "08597265227091462140"
     },
     "user_tz": 0
    },
    "id": "P-fKvEBSBgX3",
    "outputId": "bd7e43f1-f6e0-4997-cce9-0a0792580d05"
   },
   "outputs": [
    {
     "name": "stdout",
     "output_type": "stream",
     "text": [
      "GPU available: True\n"
     ]
    }
   ],
   "source": [
    "# Import PyTorch\n",
    "import torch\n",
    "import PIL\n",
    "\n",
    "# We use torchvision to get our dataset and useful image transformations\n",
    "import torchvision\n",
    "import torchvision.transforms as transforms\n",
    "\n",
    "# Import PyTorch's optimization libary and nn\n",
    "# nn is used as the basic building block for our Network graphs\n",
    "import torch.optim as optim\n",
    "import torch.nn as nn\n",
    "\n",
    "# Are we using our GPU?\n",
    "print(\"GPU available: {}\".format(torch.cuda.is_available()))\n",
    "device = 'cuda' #'cpu' if no GPU available"
   ]
  },
  {
   "cell_type": "markdown",
   "metadata": {
    "id": "kWhU7kb6cVLI"
   },
   "source": [
    "### **Our Data Transform**"
   ]
  },
  {
   "cell_type": "code",
   "execution_count": 2,
   "metadata": {
    "executionInfo": {
     "elapsed": 3,
     "status": "ok",
     "timestamp": 1638212834508,
     "user": {
      "displayName": "Rajeev Ratan",
      "photoUrl": "https://lh3.googleusercontent.com/a-/AOh14GgtO-hUyDqrPmYR3HGcaXMtwRIq1ObsdPjhiGDSWSw=s64",
      "userId": "08597265227091462140"
     },
     "user_tz": 0
    },
    "id": "5qz7sT59Buu6"
   },
   "outputs": [],
   "source": [
    "# Transform to a PyTorch tensors and the normalize our valeus between -1 and +1\n",
    "transform = transforms.Compose([transforms.ToTensor(),\n",
    "                               transforms.Normalize((0.5, ), (0.5, )) ])"
   ]
  },
  {
   "cell_type": "code",
   "execution_count": 3,
   "metadata": {
    "colab": {
     "base_uri": "https://localhost:8080/",
     "height": 423,
     "referenced_widgets": [
      "679f5e8edaef4719939ee815ad3472a3",
      "5522491cef0c4c53b9cdaff9341ea95d",
      "44b2b9e7c3f644309b153dcaabfff512",
      "e4e9e9db535d441bb5b1f2d3627f2fef",
      "acd91c0e637d43a19cad9c42587f1b9e",
      "dff82f8ef65643e18004be56d65e2812",
      "46dc3a3bf3d8433fb2b9e2f3c39defec",
      "de9ac291b9a74d2286affe04267f6142",
      "bfc0af289d7c49f7945bdf5a74364bb9",
      "f7f940dbb6d64d3e964705cbe3c89f61",
      "ff8933af881c49418ce018b245d7bcd3",
      "f313e86712cb42ebb3ea2ea6c3623218",
      "f6de1cd9e9f14964a23de68402f9e645",
      "ce1c879d7c584304898d16ea57b5aad1",
      "0d7daaa8f27543219f5bfed191ebed48",
      "fab8a30c64a442538e8c878f206d971b",
      "522a29e273f246b185b7222f6b69fcc2",
      "971d6897c8c841d4868753c87147f8f2",
      "d40e41552f4748bca785880f79ff98de",
      "233958b10a7a4755a796b0a3749b93ff",
      "752c97a5b2e24d799d41d78c22b9ee23",
      "f2f6aacdc5cc4665a2b2d1993e5318a4",
      "f6fed68f8c604b3c8b8b0bb839e51fee",
      "a9009877697340c597e6a118d75b7ef6",
      "9bd358a1baeb4ded8ffc09e05eeeecc2",
      "4504eb8eafe94e6c888bc81c0d6ae7bc",
      "3fcebe72f5a041269044249442f65abe",
      "442f2ca0200347a1ba5945e9f81ccc08",
      "d86fc6299033438f894ef200ed1e8cc6",
      "828ee012d41a4e01a30e0599d485db79",
      "fd22e12f8c6d4a3481eb55d93c698f79",
      "9f77d7cc595348ed9e7618771b71b479",
      "cb979e0180144348b04e258f78493ad2",
      "982aa2a2531e405cadc227e1a5080fa9",
      "5388d9eede2a4fa6bba336807db6598c",
      "07618db41f75459ca90eb54573d59eeb",
      "84a82f69636a4824bc05ae581a0ff4ce",
      "22e9f1ecc6c74e32870d51a645bfd7be",
      "1547665e46b341f5b404f294c76eaf61",
      "8fe85c4c6c9c49f2acf4dbe786c056c4",
      "ca40bb46d7b44f568ed6faf9f2d86f10",
      "a0b9cbd2ffba4a4a90a8874f1752ec3f",
      "df9e3722fbf04b17a99a674d63af9bc4",
      "3a7f9c32797d497db0bc36ec99ca8f4e"
     ]
    },
    "executionInfo": {
     "elapsed": 2341,
     "status": "ok",
     "timestamp": 1638212196977,
     "user": {
      "displayName": "Rajeev Ratan",
      "photoUrl": "https://lh3.googleusercontent.com/a-/AOh14GgtO-hUyDqrPmYR3HGcaXMtwRIq1ObsdPjhiGDSWSw=s64",
      "userId": "08597265227091462140"
     },
     "user_tz": 0
    },
    "id": "o2lVLQS7LxlS",
    "outputId": "155866e7-7294-4aa6-c3ad-82bc8b194c82"
   },
   "outputs": [],
   "source": [
    "# Load our Training Data and specify what transform to use when loading\n",
    "trainset = torchvision.datasets.FashionMNIST(root='./data', train=True,\n",
    "                                        download=True, transform=transform)\n",
    "\n",
    "# Load our Test Data and specify what transform to use when loading\n",
    "testset = torchvision.datasets.FashionMNIST(root='./data', train=False,\n",
    "                                       download=True, transform=transform)"
   ]
  },
  {
   "cell_type": "code",
   "execution_count": 4,
   "metadata": {
    "executionInfo": {
     "elapsed": 396,
     "status": "ok",
     "timestamp": 1638212851674,
     "user": {
      "displayName": "Rajeev Ratan",
      "photoUrl": "https://lh3.googleusercontent.com/a-/AOh14GgtO-hUyDqrPmYR3HGcaXMtwRIq1ObsdPjhiGDSWSw=s64",
      "userId": "08597265227091462140"
     },
     "user_tz": 0
    },
    "id": "TS6DQqLuLrRC"
   },
   "outputs": [],
   "source": [
    "# Prepare train and test loader\n",
    "trainloader = torch.utils.data.DataLoader(trainset, batch_size=32,\n",
    "                                          shuffle=True, num_workers=2)\n",
    "\n",
    "testloader = torch.utils.data.DataLoader(testset, batch_size=32,\n",
    "                                         shuffle=False, num_workers=2)\n",
    "\n",
    "# Create a list with our class names\n",
    "classes = ('T-shirt/top', 'Trouser', 'Pullover', 'Dress',\n",
    "           'Coat', 'Sandal', 'Shirt', 'Sneaker', 'Bag', 'Ankle boot')"
   ]
  },
  {
   "cell_type": "code",
   "execution_count": 5,
   "metadata": {
    "colab": {
     "base_uri": "https://localhost:8080/"
    },
    "executionInfo": {
     "elapsed": 281,
     "status": "ok",
     "timestamp": 1638212856185,
     "user": {
      "displayName": "Rajeev Ratan",
      "photoUrl": "https://lh3.googleusercontent.com/a-/AOh14GgtO-hUyDqrPmYR3HGcaXMtwRIq1ObsdPjhiGDSWSw=s64",
      "userId": "08597265227091462140"
     },
     "user_tz": 0
    },
    "id": "Fyz-CfYFALAg",
    "outputId": "b5fc3ad8-798c-4ac2-f4b1-56e4a4cdb4d2"
   },
   "outputs": [
    {
     "name": "stdout",
     "output_type": "stream",
     "text": [
      "torch.Size([60000, 28, 28])\n",
      "torch.Size([10000, 28, 28])\n"
     ]
    }
   ],
   "source": [
    "# We have 60,000 Image samples for our training data & 10,000 for our test data\n",
    "# each 28 x 28 pixels, as they are grayscale, there is no 3rd dimension to our image\n",
    "print(trainset.data.shape)\n",
    "print(testset.data.shape)"
   ]
  },
  {
   "cell_type": "markdown",
   "metadata": {
    "id": "Eq7hOtJ3cyXQ"
   },
   "source": [
    "### **Visualising Our Data**"
   ]
  },
  {
   "cell_type": "code",
   "execution_count": 6,
   "metadata": {
    "colab": {
     "base_uri": "https://localhost:8080/",
     "height": 260
    },
    "executionInfo": {
     "elapsed": 2724,
     "status": "ok",
     "timestamp": 1638212863934,
     "user": {
      "displayName": "Rajeev Ratan",
      "photoUrl": "https://lh3.googleusercontent.com/a-/AOh14GgtO-hUyDqrPmYR3HGcaXMtwRIq1ObsdPjhiGDSWSw=s64",
      "userId": "08597265227091462140"
     },
     "user_tz": 0
    },
    "id": "D4gUevfVAcF9",
    "outputId": "d2100d94-fa6a-4048-9c13-7710928532a7"
   },
   "outputs": [
    {
     "data": {
      "image/png": "[encoded data removed]",
      "text/plain": [
       "<Figure size 640x480 with 50 Axes>"
      ]
     },
     "metadata": {},
     "output_type": "display_data"
    }
   ],
   "source": [
    "# Let's view the 50 first images of the MNIST training dataset\n",
    "import matplotlib.pyplot as plt\n",
    "\n",
    "figure = plt.figure()\n",
    "num_of_images = 50 \n",
    "\n",
    "for index in range(1, num_of_images + 1):\n",
    "    plt.subplot(5, 10, index)\n",
    "    plt.axis('off')\n",
    "    plt.imshow(trainset.data[index], cmap='gray_r')\n",
    "  "
   ]
  },
  {
   "cell_type": "code",
   "execution_count": 8,
   "metadata": {
    "colab": {
     "base_uri": "https://localhost:8080/",
     "height": 258
    },
    "executionInfo": {
     "elapsed": 1206,
     "status": "ok",
     "timestamp": 1638214061078,
     "user": {
      "displayName": "Rajeev Ratan",
      "photoUrl": "https://lh3.googleusercontent.com/a-/AOh14GgtO-hUyDqrPmYR3HGcaXMtwRIq1ObsdPjhiGDSWSw=s64",
      "userId": "08597265227091462140"
     },
     "user_tz": 0
    },
    "id": "PuGaCOreB_tK",
    "outputId": "ee008406-8946-4125-b603-1f56073554f1"
   },
   "outputs": [
    {
     "data": {
      "image/png": "[encoded data removed]",
      "text/plain": [
       "<Figure size 640x480 with 1 Axes>"
      ]
     },
     "metadata": {},
     "output_type": "display_data"
    },
    {
     "name": "stdout",
     "output_type": "stream",
     "text": [
      "Shirt   Bag T-shirt/top Sneaker  Coat  Coat Dress Pullover\n"
     ]
    }
   ],
   "source": [
    "import matplotlib.pyplot as plt\n",
    "import numpy as np\n",
    "\n",
    "# function to show an image\n",
    "def imshow(img):\n",
    "    img = img / 2 + 0.5     # unnormalize\n",
    "    npimg = img.numpy()\n",
    "    plt.imshow(np.transpose(npimg, (1, 2, 0)))\n",
    "    plt.show()\n",
    "\n",
    "\n",
    "# get some random training images\n",
    "dataiter = iter(trainloader)\n",
    "images, labels = next(dataiter)\n",
    "\n",
    "# show images\n",
    "imshow(torchvision.utils.make_grid(images))\n",
    "\n",
    "# print labels\n",
    "print(' '.join('%5s' % classes[labels[j]] for j in range(8)))"
   ]
  },
  {
   "cell_type": "markdown",
   "metadata": {
    "id": "CxzO153iEIsD"
   },
   "source": [
    "# **2. Building and Training Our Simple CNN with No Regularisation**\n",
    "\n",
    "#### **Defining Our Model**"
   ]
  },
  {
   "cell_type": "code",
   "execution_count": 9,
   "metadata": {
    "colab": {
     "base_uri": "https://localhost:8080/"
    },
    "executionInfo": {
     "elapsed": 289,
     "status": "ok",
     "timestamp": 1638214097445,
     "user": {
      "displayName": "Rajeev Ratan",
      "photoUrl": "https://lh3.googleusercontent.com/a-/AOh14GgtO-hUyDqrPmYR3HGcaXMtwRIq1ObsdPjhiGDSWSw=s64",
      "userId": "08597265227091462140"
     },
     "user_tz": 0
    },
    "id": "Et0LsqEDB1Tc",
    "outputId": "c0b92530-f502-4028-fd5b-e6a9bd12b339"
   },
   "outputs": [
    {
     "data": {
      "text/plain": [
       "Net(\n",
       "  (conv1): Conv2d(1, 32, kernel_size=(3, 3), stride=(1, 1))\n",
       "  (conv2): Conv2d(32, 64, kernel_size=(3, 3), stride=(1, 1))\n",
       "  (pool): MaxPool2d(kernel_size=2, stride=2, padding=0, dilation=1, ceil_mode=False)\n",
       "  (fc1): Linear(in_features=9216, out_features=128, bias=True)\n",
       "  (fc2): Linear(in_features=128, out_features=10, bias=True)\n",
       ")"
      ]
     },
     "execution_count": 9,
     "metadata": {},
     "output_type": "execute_result"
    }
   ],
   "source": [
    "import torch.nn as nn\n",
    "import torch.nn.functional as F\n",
    "\n",
    "class Net(nn.Module):\n",
    "    def __init__(self):\n",
    "        super(Net, self).__init__()\n",
    "        self.conv1 = nn.Conv2d(1, 32, 3)\n",
    "        self.conv2 = nn.Conv2d(32, 64, 3)\n",
    "        self.pool = nn.MaxPool2d(2, 2)\n",
    "        self.fc1 = nn.Linear(64 * 12 * 12, 128)\n",
    "        self.fc2 = nn.Linear(128, 10)\n",
    "\n",
    "    def forward(self, x):\n",
    "        x = F.relu(self.conv1(x))\n",
    "        x = self.pool(F.relu(self.conv2(x)))\n",
    "        x = x.view(-1, 64 * 12 * 12)\n",
    "        x = F.relu(self.fc1(x))\n",
    "        x = self.fc2(x)\n",
    "        return x\n",
    "\n",
    "\n",
    "net = Net()\n",
    "net.to(device)"
   ]
  },
  {
   "cell_type": "markdown",
   "metadata": {
    "id": "S3N6uT2qMfvU"
   },
   "source": [
    "#### **Defining our Loss and Optimisation Functions**"
   ]
  },
  {
   "cell_type": "code",
   "execution_count": 10,
   "metadata": {
    "executionInfo": {
     "elapsed": 272,
     "status": "ok",
     "timestamp": 1638214105714,
     "user": {
      "displayName": "Rajeev Ratan",
      "photoUrl": "https://lh3.googleusercontent.com/a-/AOh14GgtO-hUyDqrPmYR3HGcaXMtwRIq1ObsdPjhiGDSWSw=s64",
      "userId": "08597265227091462140"
     },
     "user_tz": 0
    },
    "id": "6dJg0TERB9BF"
   },
   "outputs": [],
   "source": [
    "# We import our optimizer function\n",
    "import torch.optim as optim\n",
    "\n",
    "# We use Cross Entropy Loss as our loss function\n",
    "criterion = nn.CrossEntropyLoss()\n",
    "\n",
    "# For our gradient descent algorthim or Optimizer\n",
    "# We use Stochastic Gradient Descent (SGD) with a learning rate of 0.001\n",
    "# We set the momentum to be 0.9\n",
    "optimizer = optim.SGD(net.parameters(), lr=0.001, momentum=0.9)"
   ]
  },
  {
   "cell_type": "markdown",
   "metadata": {
    "id": "rtSHP_EnMdpZ"
   },
   "source": [
    "# **3. Training Our Model**"
   ]
  },
  {
   "cell_type": "code",
   "execution_count": 11,
   "metadata": {
    "colab": {
     "base_uri": "https://localhost:8080/"
    },
    "executionInfo": {
     "elapsed": 994996,
     "status": "ok",
     "timestamp": 1638215120446,
     "user": {
      "displayName": "Rajeev Ratan",
      "photoUrl": "https://lh3.googleusercontent.com/a-/AOh14GgtO-hUyDqrPmYR3HGcaXMtwRIq1ObsdPjhiGDSWSw=s64",
      "userId": "08597265227091462140"
     },
     "user_tz": 0
    },
    "id": "aE34zpohCBMK",
    "outputId": "0e1d2f31-f2ac-462b-bc80-729973e2f3dd"
   },
   "outputs": [
    {
     "name": "stdout",
     "output_type": "stream",
     "text": [
      "Starting Epoch: 1...\n",
      "Epoch: 1, Mini-Batches Completed: 100, Loss: 4.027, Test Accuracy = 63.780%\n",
      "Epoch: 1, Mini-Batches Completed: 200, Loss: 1.797, Test Accuracy = 69.260%\n",
      "Epoch: 1, Mini-Batches Completed: 300, Loss: 1.506, Test Accuracy = 69.140%\n",
      "Epoch: 1, Mini-Batches Completed: 400, Loss: 1.357, Test Accuracy = 73.870%\n",
      "Epoch: 1, Mini-Batches Completed: 500, Loss: 1.310, Test Accuracy = 76.910%\n",
      "Epoch: 1, Mini-Batches Completed: 600, Loss: 1.240, Test Accuracy = 76.870%\n",
      "Epoch: 1, Mini-Batches Completed: 700, Loss: 1.196, Test Accuracy = 77.090%\n",
      "Epoch: 1, Mini-Batches Completed: 800, Loss: 1.129, Test Accuracy = 78.340%\n",
      "Epoch: 1, Mini-Batches Completed: 900, Loss: 1.119, Test Accuracy = 76.510%\n",
      "Epoch: 1, Mini-Batches Completed: 1000, Loss: 1.051, Test Accuracy = 79.680%\n",
      "Epoch: 1, Mini-Batches Completed: 1100, Loss: 1.048, Test Accuracy = 79.870%\n",
      "Epoch: 1, Mini-Batches Completed: 1200, Loss: 1.123, Test Accuracy = 80.370%\n",
      "Epoch: 1, Mini-Batches Completed: 1300, Loss: 1.048, Test Accuracy = 80.120%\n",
      "Epoch: 1, Mini-Batches Completed: 1400, Loss: 0.989, Test Accuracy = 79.230%\n",
      "Epoch: 1, Mini-Batches Completed: 1500, Loss: 0.990, Test Accuracy = 82.350%\n",
      "Epoch: 1, Mini-Batches Completed: 1600, Loss: 0.991, Test Accuracy = 80.990%\n",
      "Epoch: 1, Mini-Batches Completed: 1700, Loss: 0.989, Test Accuracy = 79.090%\n",
      "Epoch: 1, Mini-Batches Completed: 1800, Loss: 0.972, Test Accuracy = 81.150%\n",
      "Starting Epoch: 2...\n",
      "Epoch: 2, Mini-Batches Completed: 100, Loss: 0.930, Test Accuracy = 83.070%\n",
      "Epoch: 2, Mini-Batches Completed: 200, Loss: 0.900, Test Accuracy = 81.690%\n",
      "Epoch: 2, Mini-Batches Completed: 300, Loss: 0.901, Test Accuracy = 81.980%\n",
      "Epoch: 2, Mini-Batches Completed: 400, Loss: 0.923, Test Accuracy = 82.360%\n",
      "Epoch: 2, Mini-Batches Completed: 500, Loss: 0.859, Test Accuracy = 83.500%\n",
      "Epoch: 2, Mini-Batches Completed: 600, Loss: 0.868, Test Accuracy = 82.990%\n",
      "Epoch: 2, Mini-Batches Completed: 700, Loss: 0.835, Test Accuracy = 84.060%\n",
      "Epoch: 2, Mini-Batches Completed: 800, Loss: 0.836, Test Accuracy = 84.000%\n",
      "Epoch: 2, Mini-Batches Completed: 900, Loss: 0.846, Test Accuracy = 84.470%\n",
      "Epoch: 2, Mini-Batches Completed: 1000, Loss: 0.859, Test Accuracy = 84.380%\n",
      "Epoch: 2, Mini-Batches Completed: 1100, Loss: 0.846, Test Accuracy = 85.150%\n",
      "Epoch: 2, Mini-Batches Completed: 1200, Loss: 0.807, Test Accuracy = 83.400%\n",
      "Epoch: 2, Mini-Batches Completed: 1300, Loss: 0.811, Test Accuracy = 83.560%\n",
      "Epoch: 2, Mini-Batches Completed: 1400, Loss: 0.822, Test Accuracy = 84.820%\n",
      "Epoch: 2, Mini-Batches Completed: 1500, Loss: 0.811, Test Accuracy = 84.600%\n",
      "Epoch: 2, Mini-Batches Completed: 1600, Loss: 0.805, Test Accuracy = 85.680%\n",
      "Epoch: 2, Mini-Batches Completed: 1700, Loss: 0.759, Test Accuracy = 85.260%\n",
      "Epoch: 2, Mini-Batches Completed: 1800, Loss: 0.761, Test Accuracy = 85.820%\n",
      "Starting Epoch: 3...\n",
      "Epoch: 3, Mini-Batches Completed: 100, Loss: 0.795, Test Accuracy = 85.830%\n",
      "Epoch: 3, Mini-Batches Completed: 200, Loss: 0.782, Test Accuracy = 86.310%\n",
      "Epoch: 3, Mini-Batches Completed: 300, Loss: 0.774, Test Accuracy = 85.730%\n",
      "Epoch: 3, Mini-Batches Completed: 400, Loss: 0.728, Test Accuracy = 85.870%\n",
      "Epoch: 3, Mini-Batches Completed: 500, Loss: 0.708, Test Accuracy = 86.620%\n",
      "Epoch: 3, Mini-Batches Completed: 600, Loss: 0.722, Test Accuracy = 86.060%\n",
      "Epoch: 3, Mini-Batches Completed: 700, Loss: 0.737, Test Accuracy = 86.300%\n",
      "Epoch: 3, Mini-Batches Completed: 800, Loss: 0.762, Test Accuracy = 85.830%\n",
      "Epoch: 3, Mini-Batches Completed: 900, Loss: 0.725, Test Accuracy = 86.260%\n",
      "Epoch: 3, Mini-Batches Completed: 1000, Loss: 0.725, Test Accuracy = 86.700%\n",
      "Epoch: 3, Mini-Batches Completed: 1100, Loss: 0.661, Test Accuracy = 85.340%\n",
      "Epoch: 3, Mini-Batches Completed: 1200, Loss: 0.693, Test Accuracy = 86.390%\n",
      "Epoch: 3, Mini-Batches Completed: 1300, Loss: 0.695, Test Accuracy = 87.040%\n",
      "Epoch: 3, Mini-Batches Completed: 1400, Loss: 0.695, Test Accuracy = 86.140%\n",
      "Epoch: 3, Mini-Batches Completed: 1500, Loss: 0.699, Test Accuracy = 86.340%\n",
      "Epoch: 3, Mini-Batches Completed: 1600, Loss: 0.680, Test Accuracy = 86.710%\n",
      "Epoch: 3, Mini-Batches Completed: 1700, Loss: 0.692, Test Accuracy = 87.070%\n",
      "Epoch: 3, Mini-Batches Completed: 1800, Loss: 0.677, Test Accuracy = 87.210%\n",
      "Starting Epoch: 4...\n",
      "Epoch: 4, Mini-Batches Completed: 100, Loss: 0.648, Test Accuracy = 86.100%\n",
      "Epoch: 4, Mini-Batches Completed: 200, Loss: 0.665, Test Accuracy = 86.920%\n",
      "Epoch: 4, Mini-Batches Completed: 300, Loss: 0.664, Test Accuracy = 87.200%\n",
      "Epoch: 4, Mini-Batches Completed: 400, Loss: 0.684, Test Accuracy = 86.580%\n",
      "Epoch: 4, Mini-Batches Completed: 500, Loss: 0.652, Test Accuracy = 87.420%\n",
      "Epoch: 4, Mini-Batches Completed: 600, Loss: 0.652, Test Accuracy = 87.090%\n",
      "Epoch: 4, Mini-Batches Completed: 700, Loss: 0.649, Test Accuracy = 87.230%\n",
      "Epoch: 4, Mini-Batches Completed: 800, Loss: 0.674, Test Accuracy = 86.530%\n",
      "Epoch: 4, Mini-Batches Completed: 900, Loss: 0.628, Test Accuracy = 87.610%\n",
      "Epoch: 4, Mini-Batches Completed: 1000, Loss: 0.615, Test Accuracy = 87.450%\n",
      "Epoch: 4, Mini-Batches Completed: 1100, Loss: 0.695, Test Accuracy = 87.420%\n",
      "Epoch: 4, Mini-Batches Completed: 1200, Loss: 0.590, Test Accuracy = 88.020%\n",
      "Epoch: 4, Mini-Batches Completed: 1300, Loss: 0.619, Test Accuracy = 87.730%\n",
      "Epoch: 4, Mini-Batches Completed: 1400, Loss: 0.632, Test Accuracy = 88.140%\n",
      "Epoch: 4, Mini-Batches Completed: 1500, Loss: 0.654, Test Accuracy = 88.290%\n",
      "Epoch: 4, Mini-Batches Completed: 1600, Loss: 0.623, Test Accuracy = 87.990%\n",
      "Epoch: 4, Mini-Batches Completed: 1700, Loss: 0.630, Test Accuracy = 86.670%\n",
      "Epoch: 4, Mini-Batches Completed: 1800, Loss: 0.610, Test Accuracy = 88.240%\n",
      "Starting Epoch: 5...\n",
      "Epoch: 5, Mini-Batches Completed: 100, Loss: 0.612, Test Accuracy = 88.210%\n",
      "Epoch: 5, Mini-Batches Completed: 200, Loss: 0.588, Test Accuracy = 88.120%\n",
      "Epoch: 5, Mini-Batches Completed: 300, Loss: 0.574, Test Accuracy = 88.300%\n",
      "Epoch: 5, Mini-Batches Completed: 400, Loss: 0.637, Test Accuracy = 88.710%\n",
      "Epoch: 5, Mini-Batches Completed: 500, Loss: 0.629, Test Accuracy = 87.630%\n",
      "Epoch: 5, Mini-Batches Completed: 600, Loss: 0.560, Test Accuracy = 87.020%\n",
      "Epoch: 5, Mini-Batches Completed: 700, Loss: 0.608, Test Accuracy = 88.120%\n",
      "Epoch: 5, Mini-Batches Completed: 800, Loss: 0.561, Test Accuracy = 88.540%\n",
      "Epoch: 5, Mini-Batches Completed: 900, Loss: 0.592, Test Accuracy = 88.140%\n",
      "Epoch: 5, Mini-Batches Completed: 1000, Loss: 0.567, Test Accuracy = 88.760%\n",
      "Epoch: 5, Mini-Batches Completed: 1100, Loss: 0.600, Test Accuracy = 88.630%\n",
      "Epoch: 5, Mini-Batches Completed: 1200, Loss: 0.568, Test Accuracy = 88.310%\n",
      "Epoch: 5, Mini-Batches Completed: 1300, Loss: 0.526, Test Accuracy = 87.630%\n",
      "Epoch: 5, Mini-Batches Completed: 1400, Loss: 0.606, Test Accuracy = 88.230%\n",
      "Epoch: 5, Mini-Batches Completed: 1500, Loss: 0.591, Test Accuracy = 88.500%\n",
      "Epoch: 5, Mini-Batches Completed: 1600, Loss: 0.558, Test Accuracy = 88.830%\n",
      "Epoch: 5, Mini-Batches Completed: 1700, Loss: 0.589, Test Accuracy = 88.420%\n",
      "Epoch: 5, Mini-Batches Completed: 1800, Loss: 0.550, Test Accuracy = 88.850%\n",
      "Starting Epoch: 6...\n",
      "Epoch: 6, Mini-Batches Completed: 100, Loss: 0.599, Test Accuracy = 89.170%\n",
      "Epoch: 6, Mini-Batches Completed: 200, Loss: 0.556, Test Accuracy = 89.110%\n",
      "Epoch: 6, Mini-Batches Completed: 300, Loss: 0.510, Test Accuracy = 88.790%\n",
      "Epoch: 6, Mini-Batches Completed: 400, Loss: 0.560, Test Accuracy = 88.830%\n",
      "Epoch: 6, Mini-Batches Completed: 500, Loss: 0.525, Test Accuracy = 89.010%\n",
      "Epoch: 6, Mini-Batches Completed: 600, Loss: 0.542, Test Accuracy = 88.680%\n",
      "Epoch: 6, Mini-Batches Completed: 700, Loss: 0.567, Test Accuracy = 87.430%\n",
      "Epoch: 6, Mini-Batches Completed: 800, Loss: 0.554, Test Accuracy = 88.870%\n",
      "Epoch: 6, Mini-Batches Completed: 900, Loss: 0.534, Test Accuracy = 89.110%\n",
      "Epoch: 6, Mini-Batches Completed: 1000, Loss: 0.541, Test Accuracy = 88.620%\n",
      "Epoch: 6, Mini-Batches Completed: 1100, Loss: 0.547, Test Accuracy = 88.430%\n",
      "Epoch: 6, Mini-Batches Completed: 1200, Loss: 0.537, Test Accuracy = 89.400%\n",
      "Epoch: 6, Mini-Batches Completed: 1300, Loss: 0.556, Test Accuracy = 89.260%\n",
      "Epoch: 6, Mini-Batches Completed: 1400, Loss: 0.539, Test Accuracy = 89.130%\n",
      "Epoch: 6, Mini-Batches Completed: 1500, Loss: 0.525, Test Accuracy = 89.510%\n",
      "Epoch: 6, Mini-Batches Completed: 1600, Loss: 0.507, Test Accuracy = 89.520%\n"
     ]
    },
    {
     "name": "stdout",
     "output_type": "stream",
     "text": [
      "Epoch: 6, Mini-Batches Completed: 1700, Loss: 0.505, Test Accuracy = 89.110%\n",
      "Epoch: 6, Mini-Batches Completed: 1800, Loss: 0.519, Test Accuracy = 89.050%\n",
      "Starting Epoch: 7...\n",
      "Epoch: 7, Mini-Batches Completed: 100, Loss: 0.522, Test Accuracy = 89.450%\n",
      "Epoch: 7, Mini-Batches Completed: 200, Loss: 0.503, Test Accuracy = 89.560%\n",
      "Epoch: 7, Mini-Batches Completed: 300, Loss: 0.520, Test Accuracy = 89.510%\n",
      "Epoch: 7, Mini-Batches Completed: 400, Loss: 0.496, Test Accuracy = 89.530%\n",
      "Epoch: 7, Mini-Batches Completed: 500, Loss: 0.492, Test Accuracy = 89.430%\n",
      "Epoch: 7, Mini-Batches Completed: 600, Loss: 0.509, Test Accuracy = 89.670%\n",
      "Epoch: 7, Mini-Batches Completed: 700, Loss: 0.504, Test Accuracy = 89.770%\n",
      "Epoch: 7, Mini-Batches Completed: 800, Loss: 0.528, Test Accuracy = 89.240%\n",
      "Epoch: 7, Mini-Batches Completed: 900, Loss: 0.558, Test Accuracy = 89.580%\n",
      "Epoch: 7, Mini-Batches Completed: 1000, Loss: 0.497, Test Accuracy = 89.810%\n",
      "Epoch: 7, Mini-Batches Completed: 1100, Loss: 0.499, Test Accuracy = 89.630%\n",
      "Epoch: 7, Mini-Batches Completed: 1200, Loss: 0.504, Test Accuracy = 89.370%\n",
      "Epoch: 7, Mini-Batches Completed: 1300, Loss: 0.520, Test Accuracy = 89.330%\n",
      "Epoch: 7, Mini-Batches Completed: 1400, Loss: 0.451, Test Accuracy = 89.490%\n",
      "Epoch: 7, Mini-Batches Completed: 1500, Loss: 0.490, Test Accuracy = 89.850%\n",
      "Epoch: 7, Mini-Batches Completed: 1600, Loss: 0.487, Test Accuracy = 90.020%\n",
      "Epoch: 7, Mini-Batches Completed: 1700, Loss: 0.483, Test Accuracy = 90.190%\n",
      "Epoch: 7, Mini-Batches Completed: 1800, Loss: 0.499, Test Accuracy = 89.950%\n",
      "Starting Epoch: 8...\n",
      "Epoch: 8, Mini-Batches Completed: 100, Loss: 0.457, Test Accuracy = 89.680%\n",
      "Epoch: 8, Mini-Batches Completed: 200, Loss: 0.487, Test Accuracy = 89.690%\n",
      "Epoch: 8, Mini-Batches Completed: 300, Loss: 0.507, Test Accuracy = 89.450%\n",
      "Epoch: 8, Mini-Batches Completed: 400, Loss: 0.434, Test Accuracy = 90.120%\n",
      "Epoch: 8, Mini-Batches Completed: 500, Loss: 0.477, Test Accuracy = 89.730%\n",
      "Epoch: 8, Mini-Batches Completed: 600, Loss: 0.474, Test Accuracy = 90.100%\n",
      "Epoch: 8, Mini-Batches Completed: 700, Loss: 0.461, Test Accuracy = 89.530%\n",
      "Epoch: 8, Mini-Batches Completed: 800, Loss: 0.479, Test Accuracy = 89.690%\n",
      "Epoch: 8, Mini-Batches Completed: 900, Loss: 0.494, Test Accuracy = 89.850%\n",
      "Epoch: 8, Mini-Batches Completed: 1000, Loss: 0.453, Test Accuracy = 89.720%\n",
      "Epoch: 8, Mini-Batches Completed: 1100, Loss: 0.499, Test Accuracy = 89.800%\n",
      "Epoch: 8, Mini-Batches Completed: 1200, Loss: 0.482, Test Accuracy = 90.010%\n",
      "Epoch: 8, Mini-Batches Completed: 1300, Loss: 0.455, Test Accuracy = 89.670%\n",
      "Epoch: 8, Mini-Batches Completed: 1400, Loss: 0.476, Test Accuracy = 90.370%\n",
      "Epoch: 8, Mini-Batches Completed: 1500, Loss: 0.481, Test Accuracy = 90.070%\n",
      "Epoch: 8, Mini-Batches Completed: 1600, Loss: 0.474, Test Accuracy = 89.800%\n",
      "Epoch: 8, Mini-Batches Completed: 1700, Loss: 0.496, Test Accuracy = 90.180%\n",
      "Epoch: 8, Mini-Batches Completed: 1800, Loss: 0.444, Test Accuracy = 89.880%\n",
      "Starting Epoch: 9...\n",
      "Epoch: 9, Mini-Batches Completed: 100, Loss: 0.419, Test Accuracy = 89.930%\n",
      "Epoch: 9, Mini-Batches Completed: 200, Loss: 0.426, Test Accuracy = 90.330%\n",
      "Epoch: 9, Mini-Batches Completed: 300, Loss: 0.451, Test Accuracy = 90.310%\n",
      "Epoch: 9, Mini-Batches Completed: 400, Loss: 0.428, Test Accuracy = 90.060%\n",
      "Epoch: 9, Mini-Batches Completed: 500, Loss: 0.425, Test Accuracy = 90.150%\n",
      "Epoch: 9, Mini-Batches Completed: 600, Loss: 0.480, Test Accuracy = 90.000%\n",
      "Epoch: 9, Mini-Batches Completed: 700, Loss: 0.413, Test Accuracy = 90.430%\n",
      "Epoch: 9, Mini-Batches Completed: 800, Loss: 0.462, Test Accuracy = 90.390%\n",
      "Epoch: 9, Mini-Batches Completed: 900, Loss: 0.443, Test Accuracy = 90.090%\n",
      "Epoch: 9, Mini-Batches Completed: 1000, Loss: 0.431, Test Accuracy = 90.080%\n",
      "Epoch: 9, Mini-Batches Completed: 1100, Loss: 0.447, Test Accuracy = 90.040%\n",
      "Epoch: 9, Mini-Batches Completed: 1200, Loss: 0.449, Test Accuracy = 90.060%\n",
      "Epoch: 9, Mini-Batches Completed: 1300, Loss: 0.470, Test Accuracy = 90.040%\n",
      "Epoch: 9, Mini-Batches Completed: 1400, Loss: 0.440, Test Accuracy = 90.460%\n",
      "Epoch: 9, Mini-Batches Completed: 1500, Loss: 0.432, Test Accuracy = 90.570%\n",
      "Epoch: 9, Mini-Batches Completed: 1600, Loss: 0.439, Test Accuracy = 90.490%\n",
      "Epoch: 9, Mini-Batches Completed: 1700, Loss: 0.413, Test Accuracy = 90.470%\n",
      "Epoch: 9, Mini-Batches Completed: 1800, Loss: 0.463, Test Accuracy = 90.160%\n",
      "Starting Epoch: 10...\n",
      "Epoch: 10, Mini-Batches Completed: 100, Loss: 0.384, Test Accuracy = 90.040%\n",
      "Epoch: 10, Mini-Batches Completed: 200, Loss: 0.423, Test Accuracy = 90.530%\n",
      "Epoch: 10, Mini-Batches Completed: 300, Loss: 0.444, Test Accuracy = 90.470%\n",
      "Epoch: 10, Mini-Batches Completed: 400, Loss: 0.471, Test Accuracy = 90.630%\n",
      "Epoch: 10, Mini-Batches Completed: 500, Loss: 0.396, Test Accuracy = 90.710%\n",
      "Epoch: 10, Mini-Batches Completed: 600, Loss: 0.421, Test Accuracy = 90.180%\n",
      "Epoch: 10, Mini-Batches Completed: 700, Loss: 0.422, Test Accuracy = 90.300%\n",
      "Epoch: 10, Mini-Batches Completed: 800, Loss: 0.410, Test Accuracy = 90.390%\n",
      "Epoch: 10, Mini-Batches Completed: 900, Loss: 0.445, Test Accuracy = 90.400%\n",
      "Epoch: 10, Mini-Batches Completed: 1000, Loss: 0.375, Test Accuracy = 90.000%\n",
      "Epoch: 10, Mini-Batches Completed: 1100, Loss: 0.399, Test Accuracy = 89.970%\n",
      "Epoch: 10, Mini-Batches Completed: 1200, Loss: 0.429, Test Accuracy = 89.870%\n",
      "Epoch: 10, Mini-Batches Completed: 1300, Loss: 0.412, Test Accuracy = 89.950%\n",
      "Epoch: 10, Mini-Batches Completed: 1400, Loss: 0.432, Test Accuracy = 90.540%\n",
      "Epoch: 10, Mini-Batches Completed: 1500, Loss: 0.414, Test Accuracy = 90.670%\n",
      "Epoch: 10, Mini-Batches Completed: 1600, Loss: 0.375, Test Accuracy = 90.040%\n",
      "Epoch: 10, Mini-Batches Completed: 1700, Loss: 0.362, Test Accuracy = 90.650%\n",
      "Epoch: 10, Mini-Batches Completed: 1800, Loss: 0.410, Test Accuracy = 89.910%\n",
      "Starting Epoch: 11...\n",
      "Epoch: 11, Mini-Batches Completed: 100, Loss: 0.408, Test Accuracy = 89.920%\n",
      "Epoch: 11, Mini-Batches Completed: 200, Loss: 0.387, Test Accuracy = 90.390%\n",
      "Epoch: 11, Mini-Batches Completed: 300, Loss: 0.385, Test Accuracy = 90.460%\n",
      "Epoch: 11, Mini-Batches Completed: 400, Loss: 0.383, Test Accuracy = 90.130%\n",
      "Epoch: 11, Mini-Batches Completed: 500, Loss: 0.389, Test Accuracy = 90.420%\n",
      "Epoch: 11, Mini-Batches Completed: 600, Loss: 0.429, Test Accuracy = 90.810%\n",
      "Epoch: 11, Mini-Batches Completed: 700, Loss: 0.424, Test Accuracy = 90.310%\n",
      "Epoch: 11, Mini-Batches Completed: 800, Loss: 0.372, Test Accuracy = 90.660%\n",
      "Epoch: 11, Mini-Batches Completed: 900, Loss: 0.371, Test Accuracy = 90.610%\n",
      "Epoch: 11, Mini-Batches Completed: 1000, Loss: 0.352, Test Accuracy = 90.590%\n",
      "Epoch: 11, Mini-Batches Completed: 1100, Loss: 0.367, Test Accuracy = 90.650%\n",
      "Epoch: 11, Mini-Batches Completed: 1200, Loss: 0.440, Test Accuracy = 90.800%\n",
      "Epoch: 11, Mini-Batches Completed: 1300, Loss: 0.354, Test Accuracy = 90.540%\n",
      "Epoch: 11, Mini-Batches Completed: 1400, Loss: 0.349, Test Accuracy = 90.130%\n",
      "Epoch: 11, Mini-Batches Completed: 1500, Loss: 0.400, Test Accuracy = 90.700%\n",
      "Epoch: 11, Mini-Batches Completed: 1600, Loss: 0.410, Test Accuracy = 90.800%\n",
      "Epoch: 11, Mini-Batches Completed: 1700, Loss: 0.417, Test Accuracy = 90.780%\n",
      "Epoch: 11, Mini-Batches Completed: 1800, Loss: 0.421, Test Accuracy = 90.780%\n",
      "Starting Epoch: 12...\n",
      "Epoch: 12, Mini-Batches Completed: 100, Loss: 0.355, Test Accuracy = 90.640%\n",
      "Epoch: 12, Mini-Batches Completed: 200, Loss: 0.399, Test Accuracy = 90.660%\n",
      "Epoch: 12, Mini-Batches Completed: 300, Loss: 0.364, Test Accuracy = 90.800%\n",
      "Epoch: 12, Mini-Batches Completed: 400, Loss: 0.353, Test Accuracy = 91.180%\n",
      "Epoch: 12, Mini-Batches Completed: 500, Loss: 0.384, Test Accuracy = 90.730%\n",
      "Epoch: 12, Mini-Batches Completed: 600, Loss: 0.353, Test Accuracy = 90.960%\n",
      "Epoch: 12, Mini-Batches Completed: 700, Loss: 0.377, Test Accuracy = 90.020%\n",
      "Epoch: 12, Mini-Batches Completed: 800, Loss: 0.381, Test Accuracy = 90.570%\n",
      "Epoch: 12, Mini-Batches Completed: 900, Loss: 0.348, Test Accuracy = 90.860%\n",
      "Epoch: 12, Mini-Batches Completed: 1000, Loss: 0.351, Test Accuracy = 90.650%\n",
      "Epoch: 12, Mini-Batches Completed: 1100, Loss: 0.390, Test Accuracy = 91.020%\n",
      "Epoch: 12, Mini-Batches Completed: 1200, Loss: 0.350, Test Accuracy = 91.000%\n",
      "Epoch: 12, Mini-Batches Completed: 1300, Loss: 0.392, Test Accuracy = 91.210%\n"
     ]
    },
    {
     "name": "stdout",
     "output_type": "stream",
     "text": [
      "Epoch: 12, Mini-Batches Completed: 1400, Loss: 0.360, Test Accuracy = 90.910%\n",
      "Epoch: 12, Mini-Batches Completed: 1500, Loss: 0.368, Test Accuracy = 90.640%\n",
      "Epoch: 12, Mini-Batches Completed: 1600, Loss: 0.360, Test Accuracy = 91.040%\n",
      "Epoch: 12, Mini-Batches Completed: 1700, Loss: 0.400, Test Accuracy = 90.080%\n",
      "Epoch: 12, Mini-Batches Completed: 1800, Loss: 0.378, Test Accuracy = 90.500%\n",
      "Starting Epoch: 13...\n",
      "Epoch: 13, Mini-Batches Completed: 100, Loss: 0.366, Test Accuracy = 90.350%\n",
      "Epoch: 13, Mini-Batches Completed: 200, Loss: 0.370, Test Accuracy = 90.870%\n",
      "Epoch: 13, Mini-Batches Completed: 300, Loss: 0.318, Test Accuracy = 90.990%\n",
      "Epoch: 13, Mini-Batches Completed: 400, Loss: 0.331, Test Accuracy = 91.060%\n",
      "Epoch: 13, Mini-Batches Completed: 500, Loss: 0.362, Test Accuracy = 90.600%\n",
      "Epoch: 13, Mini-Batches Completed: 600, Loss: 0.345, Test Accuracy = 90.740%\n",
      "Epoch: 13, Mini-Batches Completed: 700, Loss: 0.325, Test Accuracy = 90.760%\n",
      "Epoch: 13, Mini-Batches Completed: 800, Loss: 0.336, Test Accuracy = 90.550%\n",
      "Epoch: 13, Mini-Batches Completed: 900, Loss: 0.357, Test Accuracy = 91.110%\n",
      "Epoch: 13, Mini-Batches Completed: 1000, Loss: 0.343, Test Accuracy = 91.310%\n",
      "Epoch: 13, Mini-Batches Completed: 1100, Loss: 0.336, Test Accuracy = 90.400%\n",
      "Epoch: 13, Mini-Batches Completed: 1200, Loss: 0.405, Test Accuracy = 90.900%\n",
      "Epoch: 13, Mini-Batches Completed: 1300, Loss: 0.371, Test Accuracy = 90.820%\n",
      "Epoch: 13, Mini-Batches Completed: 1400, Loss: 0.350, Test Accuracy = 90.870%\n",
      "Epoch: 13, Mini-Batches Completed: 1500, Loss: 0.341, Test Accuracy = 90.840%\n",
      "Epoch: 13, Mini-Batches Completed: 1600, Loss: 0.314, Test Accuracy = 90.830%\n",
      "Epoch: 13, Mini-Batches Completed: 1700, Loss: 0.407, Test Accuracy = 91.030%\n",
      "Epoch: 13, Mini-Batches Completed: 1800, Loss: 0.343, Test Accuracy = 91.220%\n",
      "Starting Epoch: 14...\n",
      "Epoch: 14, Mini-Batches Completed: 100, Loss: 0.356, Test Accuracy = 90.840%\n",
      "Epoch: 14, Mini-Batches Completed: 200, Loss: 0.346, Test Accuracy = 91.330%\n",
      "Epoch: 14, Mini-Batches Completed: 300, Loss: 0.313, Test Accuracy = 90.790%\n",
      "Epoch: 14, Mini-Batches Completed: 400, Loss: 0.329, Test Accuracy = 91.290%\n",
      "Epoch: 14, Mini-Batches Completed: 500, Loss: 0.305, Test Accuracy = 91.120%\n",
      "Epoch: 14, Mini-Batches Completed: 600, Loss: 0.297, Test Accuracy = 91.220%\n",
      "Epoch: 14, Mini-Batches Completed: 700, Loss: 0.329, Test Accuracy = 91.170%\n",
      "Epoch: 14, Mini-Batches Completed: 800, Loss: 0.346, Test Accuracy = 91.080%\n",
      "Epoch: 14, Mini-Batches Completed: 900, Loss: 0.299, Test Accuracy = 91.120%\n",
      "Epoch: 14, Mini-Batches Completed: 1000, Loss: 0.355, Test Accuracy = 90.920%\n",
      "Epoch: 14, Mini-Batches Completed: 1100, Loss: 0.360, Test Accuracy = 91.020%\n",
      "Epoch: 14, Mini-Batches Completed: 1200, Loss: 0.322, Test Accuracy = 91.020%\n",
      "Epoch: 14, Mini-Batches Completed: 1300, Loss: 0.337, Test Accuracy = 91.090%\n",
      "Epoch: 14, Mini-Batches Completed: 1400, Loss: 0.334, Test Accuracy = 91.050%\n",
      "Epoch: 14, Mini-Batches Completed: 1500, Loss: 0.320, Test Accuracy = 91.130%\n",
      "Epoch: 14, Mini-Batches Completed: 1600, Loss: 0.315, Test Accuracy = 90.880%\n",
      "Epoch: 14, Mini-Batches Completed: 1700, Loss: 0.332, Test Accuracy = 90.920%\n",
      "Epoch: 14, Mini-Batches Completed: 1800, Loss: 0.355, Test Accuracy = 90.630%\n",
      "Starting Epoch: 15...\n",
      "Epoch: 15, Mini-Batches Completed: 100, Loss: 0.275, Test Accuracy = 91.410%\n",
      "Epoch: 15, Mini-Batches Completed: 200, Loss: 0.316, Test Accuracy = 91.350%\n",
      "Epoch: 15, Mini-Batches Completed: 300, Loss: 0.315, Test Accuracy = 90.820%\n",
      "Epoch: 15, Mini-Batches Completed: 400, Loss: 0.324, Test Accuracy = 91.460%\n",
      "Epoch: 15, Mini-Batches Completed: 500, Loss: 0.339, Test Accuracy = 91.650%\n",
      "Epoch: 15, Mini-Batches Completed: 600, Loss: 0.300, Test Accuracy = 91.460%\n",
      "Epoch: 15, Mini-Batches Completed: 700, Loss: 0.314, Test Accuracy = 91.210%\n",
      "Epoch: 15, Mini-Batches Completed: 800, Loss: 0.293, Test Accuracy = 91.250%\n",
      "Epoch: 15, Mini-Batches Completed: 900, Loss: 0.290, Test Accuracy = 91.230%\n",
      "Epoch: 15, Mini-Batches Completed: 1000, Loss: 0.354, Test Accuracy = 90.910%\n",
      "Epoch: 15, Mini-Batches Completed: 1100, Loss: 0.303, Test Accuracy = 90.440%\n",
      "Epoch: 15, Mini-Batches Completed: 1200, Loss: 0.333, Test Accuracy = 91.170%\n",
      "Epoch: 15, Mini-Batches Completed: 1300, Loss: 0.302, Test Accuracy = 91.080%\n",
      "Epoch: 15, Mini-Batches Completed: 1400, Loss: 0.284, Test Accuracy = 91.230%\n",
      "Epoch: 15, Mini-Batches Completed: 1500, Loss: 0.293, Test Accuracy = 90.770%\n",
      "Epoch: 15, Mini-Batches Completed: 1600, Loss: 0.348, Test Accuracy = 91.220%\n",
      "Epoch: 15, Mini-Batches Completed: 1700, Loss: 0.320, Test Accuracy = 91.170%\n",
      "Epoch: 15, Mini-Batches Completed: 1800, Loss: 0.315, Test Accuracy = 91.420%\n",
      "Finished Training\n"
     ]
    }
   ],
   "source": [
    "# We loop over the traing dataset multiple times (each time is called an epoch)\n",
    "epochs = 15\n",
    "\n",
    "# Create some empty arrays to store logs \n",
    "epoch_log = []\n",
    "loss_log = []\n",
    "accuracy_log = []\n",
    "\n",
    "# Iterate for a specified number of epochs\n",
    "for epoch in range(epochs):  \n",
    "    print(f'Starting Epoch: {epoch+1}...')\n",
    "\n",
    "    # We keep adding or accumulating our loss after each mini-batch in running_loss\n",
    "    running_loss = 0.0\n",
    "\n",
    "    # We iterate through our trainloader iterator\n",
    "    # Each cycle is a minibatch\n",
    "    for i, data in enumerate(trainloader, 0):\n",
    "        # get the inputs; data is a list of [inputs, labels]\n",
    "        inputs, labels = data\n",
    "\n",
    "        # Move our data to GPU\n",
    "        inputs = inputs.to(device)\n",
    "        labels = labels.to(device)\n",
    "\n",
    "        # Clear the gradients before training by setting to zero\n",
    "        # Required for a fresh start\n",
    "        optimizer.zero_grad()\n",
    "\n",
    "        # Forward -> backprop + optimize\n",
    "        outputs = net(inputs) # Forward Propagation \n",
    "        loss = criterion(outputs, labels) # Get Loss (quantify the difference between the results and predictions)\n",
    "        loss.backward() # Back propagate to obtain the new gradients for all nodes\n",
    "        optimizer.step() # Update the gradients/weights\n",
    "\n",
    "        # Print Training statistics - Epoch/Iterations/Loss/Accurachy\n",
    "        running_loss += loss.item()\n",
    "        if i % 100 == 99:    # show our loss every 50 mini-batches\n",
    "            correct = 0 # Initialize our variable to hold the count for the correct predictions\n",
    "            total = 0 # Initialize our variable to hold the count of the number of labels iterated\n",
    "\n",
    "            # We don't need gradients for validation, so wrap in \n",
    "            # no_grad to save memory\n",
    "            with torch.no_grad():\n",
    "                # Iterate through the testloader iterator\n",
    "                for data in testloader:\n",
    "                    images, labels = data\n",
    "                    # Move our data to GPU\n",
    "                    images = images.to(device)\n",
    "                    labels = labels.to(device)\n",
    "                    \n",
    "                    # Foward propagate our test data batch through our model\n",
    "                    outputs = net(images)\n",
    "\n",
    "                     # Get predictions from the maximum value\n",
    "                    _, predicted = torch.max(outputs.data, 1)\n",
    "                    # Keep adding the label size or length to the total variable\n",
    "                    total += labels.size(0)\n",
    "                    # Keep a running total of the number of predictions predicted correctly\n",
    "                    correct += (predicted == labels).sum().item()\n",
    "\n",
    "                accuracy = 100 * correct / total\n",
    "                epoch_num = epoch + 1\n",
    "                actual_loss = running_loss / 50\n",
    "                print(f'Epoch: {epoch_num}, Mini-Batches Completed: {(i+1)}, Loss: {actual_loss:.3f}, Test Accuracy = {accuracy:.3f}%')\n",
    "                running_loss = 0.0\n",
    "\n",
    "    # Store training stats after each epoch\n",
    "    epoch_log.append(epoch_num)\n",
    "    loss_log.append(actual_loss)\n",
    "    accuracy_log.append(accuracy)\n",
    "\n",
    "print('Finished Training')"
   ]
  },
  {
   "cell_type": "markdown",
   "metadata": {
    "id": "XVlT1nZ9MSHl"
   },
   "source": [
    "#### **Our Model's Accuracy**"
   ]
  },
  {
   "cell_type": "code",
   "execution_count": 12,
   "metadata": {
    "colab": {
     "base_uri": "https://localhost:8080/"
    },
    "executionInfo": {
     "elapsed": 3255,
     "status": "ok",
     "timestamp": 1638256276502,
     "user": {
      "displayName": "Rajeev Ratan",
      "photoUrl": "https://lh3.googleusercontent.com/a-/AOh14GgtO-hUyDqrPmYR3HGcaXMtwRIq1ObsdPjhiGDSWSw=s64",
      "userId": "08597265227091462140"
     },
     "user_tz": 0
    },
    "id": "nVulQ1l3MQHe",
    "outputId": "c2ca943d-099c-45a1-dd75-04d01ec8f785"
   },
   "outputs": [
    {
     "name": "stdout",
     "output_type": "stream",
     "text": [
      "Accuracy of the network on the 10000 test images: 90.78%\n"
     ]
    }
   ],
   "source": [
    "correct = 0 \n",
    "total = 0\n",
    "\n",
    "with torch.no_grad():\n",
    "    for data in testloader:\n",
    "        images, labels = data\n",
    "        # Move our data to GPU\n",
    "        images = images.to(device)\n",
    "        labels = labels.to(device)\n",
    "        outputs = net(images)\n",
    "        _, predicted = torch.max(outputs.data, 1)\n",
    "        total += labels.size(0)\n",
    "        correct += (predicted == labels).sum().item()\n",
    "\n",
    "accuracy = 100 * correct / total\n",
    "print(f'Accuracy of the network on the 10000 test images: {accuracy:.4}%')"
   ]
  },
  {
   "cell_type": "markdown",
   "metadata": {
    "id": "n2_VSKV3gV-9"
   },
   "source": [
    "#### **Our Training Plots**"
   ]
  },
  {
   "cell_type": "code",
   "execution_count": 13,
   "metadata": {
    "colab": {
     "base_uri": "https://localhost:8080/",
     "height": 321
    },
    "executionInfo": {
     "elapsed": 634,
     "status": "ok",
     "timestamp": 1638256303632,
     "user": {
      "displayName": "Rajeev Ratan",
      "photoUrl": "https://lh3.googleusercontent.com/a-/AOh14GgtO-hUyDqrPmYR3HGcaXMtwRIq1ObsdPjhiGDSWSw=s64",
      "userId": "08597265227091462140"
     },
     "user_tz": 0
    },
    "id": "RUPbtMbXgVof",
    "outputId": "4368e27c-74ba-416c-e328-49be6074e79a"
   },
   "outputs": [
    {
     "data": {
      "image/png": "[encoded data removed]",
      "text/plain": [
       "<Figure size 640x480 with 2 Axes>"
      ]
     },
     "metadata": {},
     "output_type": "display_data"
    }
   ],
   "source": [
    "# To create a plot with secondary y-axis we need to create a subplot\n",
    "fig, ax1 = plt.subplots()\n",
    "\n",
    "# Set title and x-axis label rotation\n",
    "plt.title(\"Accuracy & Loss vs Epoch Mini-Batches\")\n",
    "plt.xticks(rotation=45)\n",
    "\n",
    "# We use twinx to create a plot a secondary y axis\n",
    "ax2 = ax1.twinx()\n",
    "\n",
    "# Create plot for loss_log and accuracy_log\n",
    "ax1.plot(epoch_log, loss_log, 'g-')\n",
    "ax2.plot(epoch_log, accuracy_log, 'b-')\n",
    "\n",
    "# Set labels\n",
    "ax1.set_xlabel('Epochs')\n",
    "ax1.set_ylabel('Loss', color='g')\n",
    "ax2.set_ylabel('Test Accuracy', color='b')\n",
    "\n",
    "plt.show()"
   ]
  },
  {
   "cell_type": "markdown",
   "metadata": {
    "id": "aoMheipVMXdV"
   },
   "source": [
    "#### **Saving Our Model's Weights**"
   ]
  },
  {
   "cell_type": "code",
   "execution_count": 14,
   "metadata": {
    "executionInfo": {
     "elapsed": 9,
     "status": "ok",
     "timestamp": 1638256328851,
     "user": {
      "displayName": "Rajeev Ratan",
      "photoUrl": "https://lh3.googleusercontent.com/a-/AOh14GgtO-hUyDqrPmYR3HGcaXMtwRIq1ObsdPjhiGDSWSw=s64",
      "userId": "08597265227091462140"
     },
     "user_tz": 0
    },
    "id": "tJr08iRXCor9"
   },
   "outputs": [],
   "source": [
    "PATH = './fashion_mnist_cnn_net.pth'\n",
    "torch.save(net.state_dict(), PATH)"
   ]
  },
  {
   "cell_type": "markdown",
   "metadata": {
    "id": "HSs5ALf2M7JA"
   },
   "source": [
    "# **4. Data Augumentation**\n",
    "\n",
    "To introduce Data Augmentation to our training data we simply create new Transform functions.\n",
    "\n",
    "**Recall our previous transformation function**\n",
    "\n",
    "```transform = transforms.Compose([transforms.ToTensor(),\n",
    "                               transforms.Normalize((0.5, ), (0.5, )) ])```\n",
    "\n",
    "### **We are going to firstly demonstrate how Data Augmentation Affects Our Images**"
   ]
  },
  {
   "cell_type": "code",
   "execution_count": 17,
   "metadata": {
    "colab": {
     "base_uri": "https://localhost:8080/"
    },
    "executionInfo": {
     "elapsed": 496,
     "status": "ok",
     "timestamp": 1638256339747,
     "user": {
      "displayName": "Rajeev Ratan",
      "photoUrl": "https://lh3.googleusercontent.com/a-/AOh14GgtO-hUyDqrPmYR3HGcaXMtwRIq1ObsdPjhiGDSWSw=s64",
      "userId": "08597265227091462140"
     },
     "user_tz": 0
    },
    "id": "P46NXi8PEYIN",
    "outputId": "317291c1-d2be-4d6b-fc91-0de64a9ddb78"
   },
   "outputs": [],
   "source": [
    "# We import PIL, an Image Processing library to implement random rotations\n",
    "import PIL\n",
    "\n",
    "data_aug_transform = transforms.Compose([\n",
    "        transforms.RandomAffine(degrees = 10, translate = (0.05,0.05), shear = 5), \n",
    "        transforms.ColorJitter(hue = .05, saturation = .05),\n",
    "        transforms.RandomHorizontalFlip(),\n",
    "        transforms.RandomRotation(15),\n",
    "        transforms.Grayscale(num_output_channels = 1)\n",
    "])"
   ]
  },
  {
   "cell_type": "markdown",
   "metadata": {
    "id": "XWeGpKuuJ1hn"
   },
   "source": [
    "#### **Perform the Data Augmentatin on a Single Image using the function below to Visualize the effects**"
   ]
  },
  {
   "cell_type": "code",
   "execution_count": 18,
   "metadata": {
    "executionInfo": {
     "elapsed": 262,
     "status": "ok",
     "timestamp": 1638256403723,
     "user": {
      "displayName": "Rajeev Ratan",
      "photoUrl": "https://lh3.googleusercontent.com/a-/AOh14GgtO-hUyDqrPmYR3HGcaXMtwRIq1ObsdPjhiGDSWSw=s64",
      "userId": "08597265227091462140"
     },
     "user_tz": 0
    },
    "id": "d7LySJVuEaXu"
   },
   "outputs": [],
   "source": [
    "from matplotlib.pyplot import figure, imshow, axis\n",
    "from matplotlib.image import imread\n",
    "\n",
    "def showAugmentations(image, augmentations = 6):\n",
    "    fig = figure()\n",
    "    for i in range(augmentations):\n",
    "        a = fig.add_subplot(1,augmentations,i+1)\n",
    "        img = data_aug_transform(image)\n",
    "        imshow(img ,cmap='Greys_r')\n",
    "        axis('off')"
   ]
  },
  {
   "cell_type": "code",
   "execution_count": 19,
   "metadata": {
    "colab": {
     "base_uri": "https://localhost:8080/",
     "height": 88
    },
    "executionInfo": {
     "elapsed": 396,
     "status": "ok",
     "timestamp": 1638256472860,
     "user": {
      "displayName": "Rajeev Ratan",
      "photoUrl": "https://lh3.googleusercontent.com/a-/AOh14GgtO-hUyDqrPmYR3HGcaXMtwRIq1ObsdPjhiGDSWSw=s64",
      "userId": "08597265227091462140"
     },
     "user_tz": 0
    },
    "id": "AhRZQLWQKDEU",
    "outputId": "1b5019be-ae68-40b6-dcf6-1f87219d6eee"
   },
   "outputs": [
    {
     "data": {
      "image/png": "[encoded data removed]",
      "text/plain": [
       "<Figure size 640x480 with 8 Axes>"
      ]
     },
     "metadata": {},
     "output_type": "display_data"
    }
   ],
   "source": [
    "# Load the first Image from our training data as a numpy array\n",
    "image = trainset.data[0].numpy()\n",
    "\n",
    "# Convert it to PIL image's format\n",
    "img_pil = PIL.Image.fromarray(image)\n",
    "\n",
    "showAugmentations(img_pil, 8)"
   ]
  },
  {
   "cell_type": "code",
   "execution_count": null,
   "metadata": {
    "id": "cTB2vzNwr_5o"
   },
   "outputs": [],
   "source": []
  }
 ],
 "metadata": {
  "accelerator": "GPU",
  "colab": {
   "authorship_tag": "ABX9TyP7hmR2lcB2Vw7JFJ71z+6X",
   "name": "7. PyTorch - Fashion-MNSIT Part 1 - No Regularisation.ipynb",
   "provenance": []
  },
  "kernelspec": {
   "display_name": "Python 3 (ipykernel)",
   "language": "python",
   "name": "python3"
  },
  "language_info": {
   "codemirror_mode": {
    "name": "ipython",
    "version": 3
   },
   "file_extension": ".py",
   "mimetype": "text/x-python",
   "name": "python",
   "nbconvert_exporter": "python",
   "pygments_lexer": "ipython3",
   "version": "3.9.16"
  },
  "widgets": {
   "application/vnd.jupyter.widget-state+json": {
    "07618db41f75459ca90eb54573d59eeb": {
     "model_module": "@jupyter-widgets/controls",
     "model_module_version": "1.5.0",
     "model_name": "HTMLModel",
     "state": {
      "_dom_classes": [],
      "_model_module": "@jupyter-widgets/controls",
      "_model_module_version": "1.5.0",
      "_model_name": "HTMLModel",
      "_view_count": null,
      "_view_module": "@jupyter-widgets/controls",
      "_view_module_version": "1.5.0",
      "_view_name": "HTMLView",
      "description": "",
      "description_tooltip": null,
      "layout": "IPY_MODEL_8fe85c4c6c9c49f2acf4dbe786c056c4",
      "placeholder": "​",
      "style": "IPY_MODEL_1547665e46b341f5b404f294c76eaf61",
      "value": ""
     }
    },
    "0d7daaa8f27543219f5bfed191ebed48": {
     "model_module": "@jupyter-widgets/controls",
     "model_module_version": "1.5.0",
     "model_name": "FloatProgressModel",
     "state": {
      "_dom_classes": [],
      "_model_module": "@jupyter-widgets/controls",
      "_model_module_version": "1.5.0",
      "_model_name": "FloatProgressModel",
      "_view_count": null,
      "_view_module": "@jupyter-widgets/controls",
      "_view_module_version": "1.5.0",
      "_view_name": "ProgressView",
      "bar_style": "success",
      "description": "",
      "description_tooltip": null,
      "layout": "IPY_MODEL_233958b10a7a4755a796b0a3749b93ff",
      "max": 29515,
      "min": 0,
      "orientation": "horizontal",
      "style": "IPY_MODEL_d40e41552f4748bca785880f79ff98de",
      "value": 29515
     }
    },
    "1547665e46b341f5b404f294c76eaf61": {
     "model_module": "@jupyter-widgets/controls",
     "model_module_version": "1.5.0",
     "model_name": "DescriptionStyleModel",
     "state": {
      "_model_module": "@jupyter-widgets/controls",
      "_model_module_version": "1.5.0",
      "_model_name": "DescriptionStyleModel",
      "_view_count": null,
      "_view_module": "@jupyter-widgets/base",
      "_view_module_version": "1.2.0",
      "_view_name": "StyleView",
      "description_width": ""
     }
    },
    "22e9f1ecc6c74e32870d51a645bfd7be": {
     "model_module": "@jupyter-widgets/controls",
     "model_module_version": "1.5.0",
     "model_name": "HTMLModel",
     "state": {
      "_dom_classes": [],
      "_model_module": "@jupyter-widgets/controls",
      "_model_module_version": "1.5.0",
      "_model_name": "HTMLModel",
      "_view_count": null,
      "_view_module": "@jupyter-widgets/controls",
      "_view_module_version": "1.5.0",
      "_view_name": "HTMLView",
      "description": "",
      "description_tooltip": null,
      "layout": "IPY_MODEL_3a7f9c32797d497db0bc36ec99ca8f4e",
      "placeholder": "​",
      "style": "IPY_MODEL_df9e3722fbf04b17a99a674d63af9bc4",
      "value": " 6144/? [00:00&lt;00:00, 144374.31it/s]"
     }
    },
    "233958b10a7a4755a796b0a3749b93ff": {
     "model_module": "@jupyter-widgets/base",
     "model_module_version": "1.2.0",
     "model_name": "LayoutModel",
     "state": {
      "_model_module": "@jupyter-widgets/base",
      "_model_module_version": "1.2.0",
      "_model_name": "LayoutModel",
      "_view_count": null,
      "_view_module": "@jupyter-widgets/base",
      "_view_module_version": "1.2.0",
      "_view_name": "LayoutView",
      "align_content": null,
      "align_items": null,
      "align_self": null,
      "border": null,
      "bottom": null,
      "display": null,
      "flex": null,
      "flex_flow": null,
      "grid_area": null,
      "grid_auto_columns": null,
      "grid_auto_flow": null,
      "grid_auto_rows": null,
      "grid_column": null,
      "grid_gap": null,
      "grid_row": null,
      "grid_template_areas": null,
      "grid_template_columns": null,
      "grid_template_rows": null,
      "height": null,
      "justify_content": null,
      "justify_items": null,
      "left": null,
      "margin": null,
      "max_height": null,
      "max_width": null,
      "min_height": null,
      "min_width": null,
      "object_fit": null,
      "object_position": null,
      "order": null,
      "overflow": null,
      "overflow_x": null,
      "overflow_y": null,
      "padding": null,
      "right": null,
      "top": null,
      "visibility": null,
      "width": null
     }
    },
    "3a7f9c32797d497db0bc36ec99ca8f4e": {
     "model_module": "@jupyter-widgets/base",
     "model_module_version": "1.2.0",
     "model_name": "LayoutModel",
     "state": {
      "_model_module": "@jupyter-widgets/base",
      "_model_module_version": "1.2.0",
      "_model_name": "LayoutModel",
      "_view_count": null,
      "_view_module": "@jupyter-widgets/base",
      "_view_module_version": "1.2.0",
      "_view_name": "LayoutView",
      "align_content": null,
      "align_items": null,
      "align_self": null,
      "border": null,
      "bottom": null,
      "display": null,
      "flex": null,
      "flex_flow": null,
      "grid_area": null,
      "grid_auto_columns": null,
      "grid_auto_flow": null,
      "grid_auto_rows": null,
      "grid_column": null,
      "grid_gap": null,
      "grid_row": null,
      "grid_template_areas": null,
      "grid_template_columns": null,
      "grid_template_rows": null,
      "height": null,
      "justify_content": null,
      "justify_items": null,
      "left": null,
      "margin": null,
      "max_height": null,
      "max_width": null,
      "min_height": null,
      "min_width": null,
      "object_fit": null,
      "object_position": null,
      "order": null,
      "overflow": null,
      "overflow_x": null,
      "overflow_y": null,
      "padding": null,
      "right": null,
      "top": null,
      "visibility": null,
      "width": null
     }
    },
    "3fcebe72f5a041269044249442f65abe": {
     "model_module": "@jupyter-widgets/controls",
     "model_module_version": "1.5.0",
     "model_name": "HTMLModel",
     "state": {
      "_dom_classes": [],
      "_model_module": "@jupyter-widgets/controls",
      "_model_module_version": "1.5.0",
      "_model_name": "HTMLModel",
      "_view_count": null,
      "_view_module": "@jupyter-widgets/controls",
      "_view_module_version": "1.5.0",
      "_view_name": "HTMLView",
      "description": "",
      "description_tooltip": null,
      "layout": "IPY_MODEL_cb979e0180144348b04e258f78493ad2",
      "placeholder": "​",
      "style": "IPY_MODEL_9f77d7cc595348ed9e7618771b71b479",
      "value": " 4422656/? [00:00&lt;00:00, 6407954.45it/s]"
     }
    },
    "442f2ca0200347a1ba5945e9f81ccc08": {
     "model_module": "@jupyter-widgets/controls",
     "model_module_version": "1.5.0",
     "model_name": "DescriptionStyleModel",
     "state": {
      "_model_module": "@jupyter-widgets/controls",
      "_model_module_version": "1.5.0",
      "_model_name": "DescriptionStyleModel",
      "_view_count": null,
      "_view_module": "@jupyter-widgets/base",
      "_view_module_version": "1.2.0",
      "_view_name": "StyleView",
      "description_width": ""
     }
    },
    "44b2b9e7c3f644309b153dcaabfff512": {
     "model_module": "@jupyter-widgets/controls",
     "model_module_version": "1.5.0",
     "model_name": "HTMLModel",
     "state": {
      "_dom_classes": [],
      "_model_module": "@jupyter-widgets/controls",
      "_model_module_version": "1.5.0",
      "_model_name": "HTMLModel",
      "_view_count": null,
      "_view_module": "@jupyter-widgets/controls",
      "_view_module_version": "1.5.0",
      "_view_name": "HTMLView",
      "description": "",
      "description_tooltip": null,
      "layout": "IPY_MODEL_46dc3a3bf3d8433fb2b9e2f3c39defec",
      "placeholder": "​",
      "style": "IPY_MODEL_dff82f8ef65643e18004be56d65e2812",
      "value": ""
     }
    },
    "4504eb8eafe94e6c888bc81c0d6ae7bc": {
     "model_module": "@jupyter-widgets/controls",
     "model_module_version": "1.5.0",
     "model_name": "FloatProgressModel",
     "state": {
      "_dom_classes": [],
      "_model_module": "@jupyter-widgets/controls",
      "_model_module_version": "1.5.0",
      "_model_name": "FloatProgressModel",
      "_view_count": null,
      "_view_module": "@jupyter-widgets/controls",
      "_view_module_version": "1.5.0",
      "_view_name": "ProgressView",
      "bar_style": "success",
      "description": "",
      "description_tooltip": null,
      "layout": "IPY_MODEL_fd22e12f8c6d4a3481eb55d93c698f79",
      "max": 4422102,
      "min": 0,
      "orientation": "horizontal",
      "style": "IPY_MODEL_828ee012d41a4e01a30e0599d485db79",
      "value": 4422102
     }
    },
    "46dc3a3bf3d8433fb2b9e2f3c39defec": {
     "model_module": "@jupyter-widgets/base",
     "model_module_version": "1.2.0",
     "model_name": "LayoutModel",
     "state": {
      "_model_module": "@jupyter-widgets/base",
      "_model_module_version": "1.2.0",
      "_model_name": "LayoutModel",
      "_view_count": null,
      "_view_module": "@jupyter-widgets/base",
      "_view_module_version": "1.2.0",
      "_view_name": "LayoutView",
      "align_content": null,
      "align_items": null,
      "align_self": null,
      "border": null,
      "bottom": null,
      "display": null,
      "flex": null,
      "flex_flow": null,
      "grid_area": null,
      "grid_auto_columns": null,
      "grid_auto_flow": null,
      "grid_auto_rows": null,
      "grid_column": null,
      "grid_gap": null,
      "grid_row": null,
      "grid_template_areas": null,
      "grid_template_columns": null,
      "grid_template_rows": null,
      "height": null,
      "justify_content": null,
      "justify_items": null,
      "left": null,
      "margin": null,
      "max_height": null,
      "max_width": null,
      "min_height": null,
      "min_width": null,
      "object_fit": null,
      "object_position": null,
      "order": null,
      "overflow": null,
      "overflow_x": null,
      "overflow_y": null,
      "padding": null,
      "right": null,
      "top": null,
      "visibility": null,
      "width": null
     }
    },
    "522a29e273f246b185b7222f6b69fcc2": {
     "model_module": "@jupyter-widgets/controls",
     "model_module_version": "1.5.0",
     "model_name": "DescriptionStyleModel",
     "state": {
      "_model_module": "@jupyter-widgets/controls",
      "_model_module_version": "1.5.0",
      "_model_name": "DescriptionStyleModel",
      "_view_count": null,
      "_view_module": "@jupyter-widgets/base",
      "_view_module_version": "1.2.0",
      "_view_name": "StyleView",
      "description_width": ""
     }
    },
    "5388d9eede2a4fa6bba336807db6598c": {
     "model_module": "@jupyter-widgets/base",
     "model_module_version": "1.2.0",
     "model_name": "LayoutModel",
     "state": {
      "_model_module": "@jupyter-widgets/base",
      "_model_module_version": "1.2.0",
      "_model_name": "LayoutModel",
      "_view_count": null,
      "_view_module": "@jupyter-widgets/base",
      "_view_module_version": "1.2.0",
      "_view_name": "LayoutView",
      "align_content": null,
      "align_items": null,
      "align_self": null,
      "border": null,
      "bottom": null,
      "display": null,
      "flex": null,
      "flex_flow": null,
      "grid_area": null,
      "grid_auto_columns": null,
      "grid_auto_flow": null,
      "grid_auto_rows": null,
      "grid_column": null,
      "grid_gap": null,
      "grid_row": null,
      "grid_template_areas": null,
      "grid_template_columns": null,
      "grid_template_rows": null,
      "height": null,
      "justify_content": null,
      "justify_items": null,
      "left": null,
      "margin": null,
      "max_height": null,
      "max_width": null,
      "min_height": null,
      "min_width": null,
      "object_fit": null,
      "object_position": null,
      "order": null,
      "overflow": null,
      "overflow_x": null,
      "overflow_y": null,
      "padding": null,
      "right": null,
      "top": null,
      "visibility": null,
      "width": null
     }
    },
    "5522491cef0c4c53b9cdaff9341ea95d": {
     "model_module": "@jupyter-widgets/base",
     "model_module_version": "1.2.0",
     "model_name": "LayoutModel",
     "state": {
      "_model_module": "@jupyter-widgets/base",
      "_model_module_version": "1.2.0",
      "_model_name": "LayoutModel",
      "_view_count": null,
      "_view_module": "@jupyter-widgets/base",
      "_view_module_version": "1.2.0",
      "_view_name": "LayoutView",
      "align_content": null,
      "align_items": null,
      "align_self": null,
      "border": null,
      "bottom": null,
      "display": null,
      "flex": null,
      "flex_flow": null,
      "grid_area": null,
      "grid_auto_columns": null,
      "grid_auto_flow": null,
      "grid_auto_rows": null,
      "grid_column": null,
      "grid_gap": null,
      "grid_row": null,
      "grid_template_areas": null,
      "grid_template_columns": null,
      "grid_template_rows": null,
      "height": null,
      "justify_content": null,
      "justify_items": null,
      "left": null,
      "margin": null,
      "max_height": null,
      "max_width": null,
      "min_height": null,
      "min_width": null,
      "object_fit": null,
      "object_position": null,
      "order": null,
      "overflow": null,
      "overflow_x": null,
      "overflow_y": null,
      "padding": null,
      "right": null,
      "top": null,
      "visibility": null,
      "width": null
     }
    },
    "679f5e8edaef4719939ee815ad3472a3": {
     "model_module": "@jupyter-widgets/controls",
     "model_module_version": "1.5.0",
     "model_name": "HBoxModel",
     "state": {
      "_dom_classes": [],
      "_model_module": "@jupyter-widgets/controls",
      "_model_module_version": "1.5.0",
      "_model_name": "HBoxModel",
      "_view_count": null,
      "_view_module": "@jupyter-widgets/controls",
      "_view_module_version": "1.5.0",
      "_view_name": "HBoxView",
      "box_style": "",
      "children": [
       "IPY_MODEL_44b2b9e7c3f644309b153dcaabfff512",
       "IPY_MODEL_e4e9e9db535d441bb5b1f2d3627f2fef",
       "IPY_MODEL_acd91c0e637d43a19cad9c42587f1b9e"
      ],
      "layout": "IPY_MODEL_5522491cef0c4c53b9cdaff9341ea95d"
     }
    },
    "752c97a5b2e24d799d41d78c22b9ee23": {
     "model_module": "@jupyter-widgets/controls",
     "model_module_version": "1.5.0",
     "model_name": "DescriptionStyleModel",
     "state": {
      "_model_module": "@jupyter-widgets/controls",
      "_model_module_version": "1.5.0",
      "_model_name": "DescriptionStyleModel",
      "_view_count": null,
      "_view_module": "@jupyter-widgets/base",
      "_view_module_version": "1.2.0",
      "_view_name": "StyleView",
      "description_width": ""
     }
    },
    "828ee012d41a4e01a30e0599d485db79": {
     "model_module": "@jupyter-widgets/controls",
     "model_module_version": "1.5.0",
     "model_name": "ProgressStyleModel",
     "state": {
      "_model_module": "@jupyter-widgets/controls",
      "_model_module_version": "1.5.0",
      "_model_name": "ProgressStyleModel",
      "_view_count": null,
      "_view_module": "@jupyter-widgets/base",
      "_view_module_version": "1.2.0",
      "_view_name": "StyleView",
      "bar_color": null,
      "description_width": ""
     }
    },
    "84a82f69636a4824bc05ae581a0ff4ce": {
     "model_module": "@jupyter-widgets/controls",
     "model_module_version": "1.5.0",
     "model_name": "FloatProgressModel",
     "state": {
      "_dom_classes": [],
      "_model_module": "@jupyter-widgets/controls",
      "_model_module_version": "1.5.0",
      "_model_name": "FloatProgressModel",
      "_view_count": null,
      "_view_module": "@jupyter-widgets/controls",
      "_view_module_version": "1.5.0",
      "_view_name": "ProgressView",
      "bar_style": "success",
      "description": "",
      "description_tooltip": null,
      "layout": "IPY_MODEL_a0b9cbd2ffba4a4a90a8874f1752ec3f",
      "max": 5148,
      "min": 0,
      "orientation": "horizontal",
      "style": "IPY_MODEL_ca40bb46d7b44f568ed6faf9f2d86f10",
      "value": 5148
     }
    },
    "8fe85c4c6c9c49f2acf4dbe786c056c4": {
     "model_module": "@jupyter-widgets/base",
     "model_module_version": "1.2.0",
     "model_name": "LayoutModel",
     "state": {
      "_model_module": "@jupyter-widgets/base",
      "_model_module_version": "1.2.0",
      "_model_name": "LayoutModel",
      "_view_count": null,
      "_view_module": "@jupyter-widgets/base",
      "_view_module_version": "1.2.0",
      "_view_name": "LayoutView",
      "align_content": null,
      "align_items": null,
      "align_self": null,
      "border": null,
      "bottom": null,
      "display": null,
      "flex": null,
      "flex_flow": null,
      "grid_area": null,
      "grid_auto_columns": null,
      "grid_auto_flow": null,
      "grid_auto_rows": null,
      "grid_column": null,
      "grid_gap": null,
      "grid_row": null,
      "grid_template_areas": null,
      "grid_template_columns": null,
      "grid_template_rows": null,
      "height": null,
      "justify_content": null,
      "justify_items": null,
      "left": null,
      "margin": null,
      "max_height": null,
      "max_width": null,
      "min_height": null,
      "min_width": null,
      "object_fit": null,
      "object_position": null,
      "order": null,
      "overflow": null,
      "overflow_x": null,
      "overflow_y": null,
      "padding": null,
      "right": null,
      "top": null,
      "visibility": null,
      "width": null
     }
    },
    "971d6897c8c841d4868753c87147f8f2": {
     "model_module": "@jupyter-widgets/base",
     "model_module_version": "1.2.0",
     "model_name": "LayoutModel",
     "state": {
      "_model_module": "@jupyter-widgets/base",
      "_model_module_version": "1.2.0",
      "_model_name": "LayoutModel",
      "_view_count": null,
      "_view_module": "@jupyter-widgets/base",
      "_view_module_version": "1.2.0",
      "_view_name": "LayoutView",
      "align_content": null,
      "align_items": null,
      "align_self": null,
      "border": null,
      "bottom": null,
      "display": null,
      "flex": null,
      "flex_flow": null,
      "grid_area": null,
      "grid_auto_columns": null,
      "grid_auto_flow": null,
      "grid_auto_rows": null,
      "grid_column": null,
      "grid_gap": null,
      "grid_row": null,
      "grid_template_areas": null,
      "grid_template_columns": null,
      "grid_template_rows": null,
      "height": null,
      "justify_content": null,
      "justify_items": null,
      "left": null,
      "margin": null,
      "max_height": null,
      "max_width": null,
      "min_height": null,
      "min_width": null,
      "object_fit": null,
      "object_position": null,
      "order": null,
      "overflow": null,
      "overflow_x": null,
      "overflow_y": null,
      "padding": null,
      "right": null,
      "top": null,
      "visibility": null,
      "width": null
     }
    },
    "982aa2a2531e405cadc227e1a5080fa9": {
     "model_module": "@jupyter-widgets/controls",
     "model_module_version": "1.5.0",
     "model_name": "HBoxModel",
     "state": {
      "_dom_classes": [],
      "_model_module": "@jupyter-widgets/controls",
      "_model_module_version": "1.5.0",
      "_model_name": "HBoxModel",
      "_view_count": null,
      "_view_module": "@jupyter-widgets/controls",
      "_view_module_version": "1.5.0",
      "_view_name": "HBoxView",
      "box_style": "",
      "children": [
       "IPY_MODEL_07618db41f75459ca90eb54573d59eeb",
       "IPY_MODEL_84a82f69636a4824bc05ae581a0ff4ce",
       "IPY_MODEL_22e9f1ecc6c74e32870d51a645bfd7be"
      ],
      "layout": "IPY_MODEL_5388d9eede2a4fa6bba336807db6598c"
     }
    },
    "9bd358a1baeb4ded8ffc09e05eeeecc2": {
     "model_module": "@jupyter-widgets/controls",
     "model_module_version": "1.5.0",
     "model_name": "HTMLModel",
     "state": {
      "_dom_classes": [],
      "_model_module": "@jupyter-widgets/controls",
      "_model_module_version": "1.5.0",
      "_model_name": "HTMLModel",
      "_view_count": null,
      "_view_module": "@jupyter-widgets/controls",
      "_view_module_version": "1.5.0",
      "_view_name": "HTMLView",
      "description": "",
      "description_tooltip": null,
      "layout": "IPY_MODEL_d86fc6299033438f894ef200ed1e8cc6",
      "placeholder": "​",
      "style": "IPY_MODEL_442f2ca0200347a1ba5945e9f81ccc08",
      "value": ""
     }
    },
    "9f77d7cc595348ed9e7618771b71b479": {
     "model_module": "@jupyter-widgets/controls",
     "model_module_version": "1.5.0",
     "model_name": "DescriptionStyleModel",
     "state": {
      "_model_module": "@jupyter-widgets/controls",
      "_model_module_version": "1.5.0",
      "_model_name": "DescriptionStyleModel",
      "_view_count": null,
      "_view_module": "@jupyter-widgets/base",
      "_view_module_version": "1.2.0",
      "_view_name": "StyleView",
      "description_width": ""
     }
    },
    "a0b9cbd2ffba4a4a90a8874f1752ec3f": {
     "model_module": "@jupyter-widgets/base",
     "model_module_version": "1.2.0",
     "model_name": "LayoutModel",
     "state": {
      "_model_module": "@jupyter-widgets/base",
      "_model_module_version": "1.2.0",
      "_model_name": "LayoutModel",
      "_view_count": null,
      "_view_module": "@jupyter-widgets/base",
      "_view_module_version": "1.2.0",
      "_view_name": "LayoutView",
      "align_content": null,
      "align_items": null,
      "align_self": null,
      "border": null,
      "bottom": null,
      "display": null,
      "flex": null,
      "flex_flow": null,
      "grid_area": null,
      "grid_auto_columns": null,
      "grid_auto_flow": null,
      "grid_auto_rows": null,
      "grid_column": null,
      "grid_gap": null,
      "grid_row": null,
      "grid_template_areas": null,
      "grid_template_columns": null,
      "grid_template_rows": null,
      "height": null,
      "justify_content": null,
      "justify_items": null,
      "left": null,
      "margin": null,
      "max_height": null,
      "max_width": null,
      "min_height": null,
      "min_width": null,
      "object_fit": null,
      "object_position": null,
      "order": null,
      "overflow": null,
      "overflow_x": null,
      "overflow_y": null,
      "padding": null,
      "right": null,
      "top": null,
      "visibility": null,
      "width": null
     }
    },
    "a9009877697340c597e6a118d75b7ef6": {
     "model_module": "@jupyter-widgets/base",
     "model_module_version": "1.2.0",
     "model_name": "LayoutModel",
     "state": {
      "_model_module": "@jupyter-widgets/base",
      "_model_module_version": "1.2.0",
      "_model_name": "LayoutModel",
      "_view_count": null,
      "_view_module": "@jupyter-widgets/base",
      "_view_module_version": "1.2.0",
      "_view_name": "LayoutView",
      "align_content": null,
      "align_items": null,
      "align_self": null,
      "border": null,
      "bottom": null,
      "display": null,
      "flex": null,
      "flex_flow": null,
      "grid_area": null,
      "grid_auto_columns": null,
      "grid_auto_flow": null,
      "grid_auto_rows": null,
      "grid_column": null,
      "grid_gap": null,
      "grid_row": null,
      "grid_template_areas": null,
      "grid_template_columns": null,
      "grid_template_rows": null,
      "height": null,
      "justify_content": null,
      "justify_items": null,
      "left": null,
      "margin": null,
      "max_height": null,
      "max_width": null,
      "min_height": null,
      "min_width": null,
      "object_fit": null,
      "object_position": null,
      "order": null,
      "overflow": null,
      "overflow_x": null,
      "overflow_y": null,
      "padding": null,
      "right": null,
      "top": null,
      "visibility": null,
      "width": null
     }
    },
    "acd91c0e637d43a19cad9c42587f1b9e": {
     "model_module": "@jupyter-widgets/controls",
     "model_module_version": "1.5.0",
     "model_name": "HTMLModel",
     "state": {
      "_dom_classes": [],
      "_model_module": "@jupyter-widgets/controls",
      "_model_module_version": "1.5.0",
      "_model_name": "HTMLModel",
      "_view_count": null,
      "_view_module": "@jupyter-widgets/controls",
      "_view_module_version": "1.5.0",
      "_view_name": "HTMLView",
      "description": "",
      "description_tooltip": null,
      "layout": "IPY_MODEL_ff8933af881c49418ce018b245d7bcd3",
      "placeholder": "​",
      "style": "IPY_MODEL_f7f940dbb6d64d3e964705cbe3c89f61",
      "value": " 26422272/? [00:00&lt;00:00, 62234661.75it/s]"
     }
    },
    "bfc0af289d7c49f7945bdf5a74364bb9": {
     "model_module": "@jupyter-widgets/base",
     "model_module_version": "1.2.0",
     "model_name": "LayoutModel",
     "state": {
      "_model_module": "@jupyter-widgets/base",
      "_model_module_version": "1.2.0",
      "_model_name": "LayoutModel",
      "_view_count": null,
      "_view_module": "@jupyter-widgets/base",
      "_view_module_version": "1.2.0",
      "_view_name": "LayoutView",
      "align_content": null,
      "align_items": null,
      "align_self": null,
      "border": null,
      "bottom": null,
      "display": null,
      "flex": null,
      "flex_flow": null,
      "grid_area": null,
      "grid_auto_columns": null,
      "grid_auto_flow": null,
      "grid_auto_rows": null,
      "grid_column": null,
      "grid_gap": null,
      "grid_row": null,
      "grid_template_areas": null,
      "grid_template_columns": null,
      "grid_template_rows": null,
      "height": null,
      "justify_content": null,
      "justify_items": null,
      "left": null,
      "margin": null,
      "max_height": null,
      "max_width": null,
      "min_height": null,
      "min_width": null,
      "object_fit": null,
      "object_position": null,
      "order": null,
      "overflow": null,
      "overflow_x": null,
      "overflow_y": null,
      "padding": null,
      "right": null,
      "top": null,
      "visibility": null,
      "width": null
     }
    },
    "ca40bb46d7b44f568ed6faf9f2d86f10": {
     "model_module": "@jupyter-widgets/controls",
     "model_module_version": "1.5.0",
     "model_name": "ProgressStyleModel",
     "state": {
      "_model_module": "@jupyter-widgets/controls",
      "_model_module_version": "1.5.0",
      "_model_name": "ProgressStyleModel",
      "_view_count": null,
      "_view_module": "@jupyter-widgets/base",
      "_view_module_version": "1.2.0",
      "_view_name": "StyleView",
      "bar_color": null,
      "description_width": ""
     }
    },
    "cb979e0180144348b04e258f78493ad2": {
     "model_module": "@jupyter-widgets/base",
     "model_module_version": "1.2.0",
     "model_name": "LayoutModel",
     "state": {
      "_model_module": "@jupyter-widgets/base",
      "_model_module_version": "1.2.0",
      "_model_name": "LayoutModel",
      "_view_count": null,
      "_view_module": "@jupyter-widgets/base",
      "_view_module_version": "1.2.0",
      "_view_name": "LayoutView",
      "align_content": null,
      "align_items": null,
      "align_self": null,
      "border": null,
      "bottom": null,
      "display": null,
      "flex": null,
      "flex_flow": null,
      "grid_area": null,
      "grid_auto_columns": null,
      "grid_auto_flow": null,
      "grid_auto_rows": null,
      "grid_column": null,
      "grid_gap": null,
      "grid_row": null,
      "grid_template_areas": null,
      "grid_template_columns": null,
      "grid_template_rows": null,
      "height": null,
      "justify_content": null,
      "justify_items": null,
      "left": null,
      "margin": null,
      "max_height": null,
      "max_width": null,
      "min_height": null,
      "min_width": null,
      "object_fit": null,
      "object_position": null,
      "order": null,
      "overflow": null,
      "overflow_x": null,
      "overflow_y": null,
      "padding": null,
      "right": null,
      "top": null,
      "visibility": null,
      "width": null
     }
    },
    "ce1c879d7c584304898d16ea57b5aad1": {
     "model_module": "@jupyter-widgets/controls",
     "model_module_version": "1.5.0",
     "model_name": "HTMLModel",
     "state": {
      "_dom_classes": [],
      "_model_module": "@jupyter-widgets/controls",
      "_model_module_version": "1.5.0",
      "_model_name": "HTMLModel",
      "_view_count": null,
      "_view_module": "@jupyter-widgets/controls",
      "_view_module_version": "1.5.0",
      "_view_name": "HTMLView",
      "description": "",
      "description_tooltip": null,
      "layout": "IPY_MODEL_971d6897c8c841d4868753c87147f8f2",
      "placeholder": "​",
      "style": "IPY_MODEL_522a29e273f246b185b7222f6b69fcc2",
      "value": ""
     }
    },
    "d40e41552f4748bca785880f79ff98de": {
     "model_module": "@jupyter-widgets/controls",
     "model_module_version": "1.5.0",
     "model_name": "ProgressStyleModel",
     "state": {
      "_model_module": "@jupyter-widgets/controls",
      "_model_module_version": "1.5.0",
      "_model_name": "ProgressStyleModel",
      "_view_count": null,
      "_view_module": "@jupyter-widgets/base",
      "_view_module_version": "1.2.0",
      "_view_name": "StyleView",
      "bar_color": null,
      "description_width": ""
     }
    },
    "d86fc6299033438f894ef200ed1e8cc6": {
     "model_module": "@jupyter-widgets/base",
     "model_module_version": "1.2.0",
     "model_name": "LayoutModel",
     "state": {
      "_model_module": "@jupyter-widgets/base",
      "_model_module_version": "1.2.0",
      "_model_name": "LayoutModel",
      "_view_count": null,
      "_view_module": "@jupyter-widgets/base",
      "_view_module_version": "1.2.0",
      "_view_name": "LayoutView",
      "align_content": null,
      "align_items": null,
      "align_self": null,
      "border": null,
      "bottom": null,
      "display": null,
      "flex": null,
      "flex_flow": null,
      "grid_area": null,
      "grid_auto_columns": null,
      "grid_auto_flow": null,
      "grid_auto_rows": null,
      "grid_column": null,
      "grid_gap": null,
      "grid_row": null,
      "grid_template_areas": null,
      "grid_template_columns": null,
      "grid_template_rows": null,
      "height": null,
      "justify_content": null,
      "justify_items": null,
      "left": null,
      "margin": null,
      "max_height": null,
      "max_width": null,
      "min_height": null,
      "min_width": null,
      "object_fit": null,
      "object_position": null,
      "order": null,
      "overflow": null,
      "overflow_x": null,
      "overflow_y": null,
      "padding": null,
      "right": null,
      "top": null,
      "visibility": null,
      "width": null
     }
    },
    "de9ac291b9a74d2286affe04267f6142": {
     "model_module": "@jupyter-widgets/controls",
     "model_module_version": "1.5.0",
     "model_name": "ProgressStyleModel",
     "state": {
      "_model_module": "@jupyter-widgets/controls",
      "_model_module_version": "1.5.0",
      "_model_name": "ProgressStyleModel",
      "_view_count": null,
      "_view_module": "@jupyter-widgets/base",
      "_view_module_version": "1.2.0",
      "_view_name": "StyleView",
      "bar_color": null,
      "description_width": ""
     }
    },
    "df9e3722fbf04b17a99a674d63af9bc4": {
     "model_module": "@jupyter-widgets/controls",
     "model_module_version": "1.5.0",
     "model_name": "DescriptionStyleModel",
     "state": {
      "_model_module": "@jupyter-widgets/controls",
      "_model_module_version": "1.5.0",
      "_model_name": "DescriptionStyleModel",
      "_view_count": null,
      "_view_module": "@jupyter-widgets/base",
      "_view_module_version": "1.2.0",
      "_view_name": "StyleView",
      "description_width": ""
     }
    },
    "dff82f8ef65643e18004be56d65e2812": {
     "model_module": "@jupyter-widgets/controls",
     "model_module_version": "1.5.0",
     "model_name": "DescriptionStyleModel",
     "state": {
      "_model_module": "@jupyter-widgets/controls",
      "_model_module_version": "1.5.0",
      "_model_name": "DescriptionStyleModel",
      "_view_count": null,
      "_view_module": "@jupyter-widgets/base",
      "_view_module_version": "1.2.0",
      "_view_name": "StyleView",
      "description_width": ""
     }
    },
    "e4e9e9db535d441bb5b1f2d3627f2fef": {
     "model_module": "@jupyter-widgets/controls",
     "model_module_version": "1.5.0",
     "model_name": "FloatProgressModel",
     "state": {
      "_dom_classes": [],
      "_model_module": "@jupyter-widgets/controls",
      "_model_module_version": "1.5.0",
      "_model_name": "FloatProgressModel",
      "_view_count": null,
      "_view_module": "@jupyter-widgets/controls",
      "_view_module_version": "1.5.0",
      "_view_name": "ProgressView",
      "bar_style": "success",
      "description": "",
      "description_tooltip": null,
      "layout": "IPY_MODEL_bfc0af289d7c49f7945bdf5a74364bb9",
      "max": 26421880,
      "min": 0,
      "orientation": "horizontal",
      "style": "IPY_MODEL_de9ac291b9a74d2286affe04267f6142",
      "value": 26421880
     }
    },
    "f2f6aacdc5cc4665a2b2d1993e5318a4": {
     "model_module": "@jupyter-widgets/base",
     "model_module_version": "1.2.0",
     "model_name": "LayoutModel",
     "state": {
      "_model_module": "@jupyter-widgets/base",
      "_model_module_version": "1.2.0",
      "_model_name": "LayoutModel",
      "_view_count": null,
      "_view_module": "@jupyter-widgets/base",
      "_view_module_version": "1.2.0",
      "_view_name": "LayoutView",
      "align_content": null,
      "align_items": null,
      "align_self": null,
      "border": null,
      "bottom": null,
      "display": null,
      "flex": null,
      "flex_flow": null,
      "grid_area": null,
      "grid_auto_columns": null,
      "grid_auto_flow": null,
      "grid_auto_rows": null,
      "grid_column": null,
      "grid_gap": null,
      "grid_row": null,
      "grid_template_areas": null,
      "grid_template_columns": null,
      "grid_template_rows": null,
      "height": null,
      "justify_content": null,
      "justify_items": null,
      "left": null,
      "margin": null,
      "max_height": null,
      "max_width": null,
      "min_height": null,
      "min_width": null,
      "object_fit": null,
      "object_position": null,
      "order": null,
      "overflow": null,
      "overflow_x": null,
      "overflow_y": null,
      "padding": null,
      "right": null,
      "top": null,
      "visibility": null,
      "width": null
     }
    },
    "f313e86712cb42ebb3ea2ea6c3623218": {
     "model_module": "@jupyter-widgets/controls",
     "model_module_version": "1.5.0",
     "model_name": "HBoxModel",
     "state": {
      "_dom_classes": [],
      "_model_module": "@jupyter-widgets/controls",
      "_model_module_version": "1.5.0",
      "_model_name": "HBoxModel",
      "_view_count": null,
      "_view_module": "@jupyter-widgets/controls",
      "_view_module_version": "1.5.0",
      "_view_name": "HBoxView",
      "box_style": "",
      "children": [
       "IPY_MODEL_ce1c879d7c584304898d16ea57b5aad1",
       "IPY_MODEL_0d7daaa8f27543219f5bfed191ebed48",
       "IPY_MODEL_fab8a30c64a442538e8c878f206d971b"
      ],
      "layout": "IPY_MODEL_f6de1cd9e9f14964a23de68402f9e645"
     }
    },
    "f6de1cd9e9f14964a23de68402f9e645": {
     "model_module": "@jupyter-widgets/base",
     "model_module_version": "1.2.0",
     "model_name": "LayoutModel",
     "state": {
      "_model_module": "@jupyter-widgets/base",
      "_model_module_version": "1.2.0",
      "_model_name": "LayoutModel",
      "_view_count": null,
      "_view_module": "@jupyter-widgets/base",
      "_view_module_version": "1.2.0",
      "_view_name": "LayoutView",
      "align_content": null,
      "align_items": null,
      "align_self": null,
      "border": null,
      "bottom": null,
      "display": null,
      "flex": null,
      "flex_flow": null,
      "grid_area": null,
      "grid_auto_columns": null,
      "grid_auto_flow": null,
      "grid_auto_rows": null,
      "grid_column": null,
      "grid_gap": null,
      "grid_row": null,
      "grid_template_areas": null,
      "grid_template_columns": null,
      "grid_template_rows": null,
      "height": null,
      "justify_content": null,
      "justify_items": null,
      "left": null,
      "margin": null,
      "max_height": null,
      "max_width": null,
      "min_height": null,
      "min_width": null,
      "object_fit": null,
      "object_position": null,
      "order": null,
      "overflow": null,
      "overflow_x": null,
      "overflow_y": null,
      "padding": null,
      "right": null,
      "top": null,
      "visibility": null,
      "width": null
     }
    },
    "f6fed68f8c604b3c8b8b0bb839e51fee": {
     "model_module": "@jupyter-widgets/controls",
     "model_module_version": "1.5.0",
     "model_name": "HBoxModel",
     "state": {
      "_dom_classes": [],
      "_model_module": "@jupyter-widgets/controls",
      "_model_module_version": "1.5.0",
      "_model_name": "HBoxModel",
      "_view_count": null,
      "_view_module": "@jupyter-widgets/controls",
      "_view_module_version": "1.5.0",
      "_view_name": "HBoxView",
      "box_style": "",
      "children": [
       "IPY_MODEL_9bd358a1baeb4ded8ffc09e05eeeecc2",
       "IPY_MODEL_4504eb8eafe94e6c888bc81c0d6ae7bc",
       "IPY_MODEL_3fcebe72f5a041269044249442f65abe"
      ],
      "layout": "IPY_MODEL_a9009877697340c597e6a118d75b7ef6"
     }
    },
    "f7f940dbb6d64d3e964705cbe3c89f61": {
     "model_module": "@jupyter-widgets/controls",
     "model_module_version": "1.5.0",
     "model_name": "DescriptionStyleModel",
     "state": {
      "_model_module": "@jupyter-widgets/controls",
      "_model_module_version": "1.5.0",
      "_model_name": "DescriptionStyleModel",
      "_view_count": null,
      "_view_module": "@jupyter-widgets/base",
      "_view_module_version": "1.2.0",
      "_view_name": "StyleView",
      "description_width": ""
     }
    },
    "fab8a30c64a442538e8c878f206d971b": {
     "model_module": "@jupyter-widgets/controls",
     "model_module_version": "1.5.0",
     "model_name": "HTMLModel",
     "state": {
      "_dom_classes": [],
      "_model_module": "@jupyter-widgets/controls",
      "_model_module_version": "1.5.0",
      "_model_name": "HTMLModel",
      "_view_count": null,
      "_view_module": "@jupyter-widgets/controls",
      "_view_module_version": "1.5.0",
      "_view_name": "HTMLView",
      "description": "",
      "description_tooltip": null,
      "layout": "IPY_MODEL_f2f6aacdc5cc4665a2b2d1993e5318a4",
      "placeholder": "​",
      "style": "IPY_MODEL_752c97a5b2e24d799d41d78c22b9ee23",
      "value": " 29696/? [00:00&lt;00:00, 690781.11it/s]"
     }
    },
    "fd22e12f8c6d4a3481eb55d93c698f79": {
     "model_module": "@jupyter-widgets/base",
     "model_module_version": "1.2.0",
     "model_name": "LayoutModel",
     "state": {
      "_model_module": "@jupyter-widgets/base",
      "_model_module_version": "1.2.0",
      "_model_name": "LayoutModel",
      "_view_count": null,
      "_view_module": "@jupyter-widgets/base",
      "_view_module_version": "1.2.0",
      "_view_name": "LayoutView",
      "align_content": null,
      "align_items": null,
      "align_self": null,
      "border": null,
      "bottom": null,
      "display": null,
      "flex": null,
      "flex_flow": null,
      "grid_area": null,
      "grid_auto_columns": null,
      "grid_auto_flow": null,
      "grid_auto_rows": null,
      "grid_column": null,
      "grid_gap": null,
      "grid_row": null,
      "grid_template_areas": null,
      "grid_template_columns": null,
      "grid_template_rows": null,
      "height": null,
      "justify_content": null,
      "justify_items": null,
      "left": null,
      "margin": null,
      "max_height": null,
      "max_width": null,
      "min_height": null,
      "min_width": null,
      "object_fit": null,
      "object_position": null,
      "order": null,
      "overflow": null,
      "overflow_x": null,
      "overflow_y": null,
      "padding": null,
      "right": null,
      "top": null,
      "visibility": null,
      "width": null
     }
    },
    "ff8933af881c49418ce018b245d7bcd3": {
     "model_module": "@jupyter-widgets/base",
     "model_module_version": "1.2.0",
     "model_name": "LayoutModel",
     "state": {
      "_model_module": "@jupyter-widgets/base",
      "_model_module_version": "1.2.0",
      "_model_name": "LayoutModel",
      "_view_count": null,
      "_view_module": "@jupyter-widgets/base",
      "_view_module_version": "1.2.0",
      "_view_name": "LayoutView",
      "align_content": null,
      "align_items": null,
      "align_self": null,
      "border": null,
      "bottom": null,
      "display": null,
      "flex": null,
      "flex_flow": null,
      "grid_area": null,
      "grid_auto_columns": null,
      "grid_auto_flow": null,
      "grid_auto_rows": null,
      "grid_column": null,
      "grid_gap": null,
      "grid_row": null,
      "grid_template_areas": null,
      "grid_template_columns": null,
      "grid_template_rows": null,
      "height": null,
      "justify_content": null,
      "justify_items": null,
      "left": null,
      "margin": null,
      "max_height": null,
      "max_width": null,
      "min_height": null,
      "min_width": null,
      "object_fit": null,
      "object_position": null,
      "order": null,
      "overflow": null,
      "overflow_x": null,
      "overflow_y": null,
      "padding": null,
      "right": null,
      "top": null,
      "visibility": null,
      "width": null
     }
    }
   }
  }
 },
 "nbformat": 4,
 "nbformat_minor": 1
}
